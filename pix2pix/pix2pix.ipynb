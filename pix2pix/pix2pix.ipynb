{
 "cells": [
  {
   "cell_type": "markdown",
   "metadata": {
    "id": "1yvcW3A4EUwE"
   },
   "source": [
    "# Pix2Pix\n",
    "Goals\n",
    "In this notebook, you will write a generative model based on the paper Image-to-Image Translation with Conditional Adversarial Networks by Isola et al. 2017, also known as Pix2Pix.\n",
    "\n",
    "You will be training a model that can convert aerial satellite imagery (\"input\") into map routes (\"output\"), as was done in the original paper. Since the architecture for the generator is a U-Net, which you've already implemented (with minor changes), the emphasis of the assignment will be on the loss function. So that you can see outputs more quickly, you'll be able to see your model train starting from a pre-trained checkpoint - but feel free to train it from scratch on your own too."
   ]
  },
  {
   "cell_type": "markdown",
   "metadata": {
    "id": "kBHQhc9pEjc2"
   },
   "source": [
    "# Learning Objectives\n",
    "Implement the loss of a Pix2Pix model that differentiates it from a supervised U-Net.\n",
    "Observe the change in generator priorities as the Pix2Pix generator trains, changing its emphasis from reconstruction to realism."
   ]
  },
  {
   "cell_type": "markdown",
   "metadata": {
    "id": "PqiaO3FmEmVw"
   },
   "source": [
    "# Getting Started\n",
    "You will start by importing libraries, defining a visualization function, and getting the pre-trained Pix2Pix checkpoint. You will also be provided with the U-Net code for the Pix2Pix generator."
   ]
  },
  {
   "cell_type": "code",
   "execution_count": 3,
   "metadata": {
    "colab": {
     "base_uri": "https://localhost:8080/"
    },
    "id": "-QwHeQUQeUIk",
    "outputId": "04736417-0d0e-40da-9c94-14bbdad283a8"
   },
   "outputs": [
    {
     "name": "stdout",
     "output_type": "stream",
     "text": [
      "Requirement already satisfied: opendatasets in /usr/local/lib/python3.7/dist-packages (0.1.20)\n",
      "Requirement already satisfied: click in /usr/local/lib/python3.7/dist-packages (from opendatasets) (7.1.2)\n",
      "Requirement already satisfied: tqdm in /usr/local/lib/python3.7/dist-packages (from opendatasets) (4.62.3)\n",
      "Requirement already satisfied: kaggle in /usr/local/lib/python3.7/dist-packages (from opendatasets) (1.5.12)\n",
      "Requirement already satisfied: certifi in /usr/local/lib/python3.7/dist-packages (from kaggle->opendatasets) (2021.10.8)\n",
      "Requirement already satisfied: python-slugify in /usr/local/lib/python3.7/dist-packages (from kaggle->opendatasets) (6.1.0)\n",
      "Requirement already satisfied: six>=1.10 in /usr/local/lib/python3.7/dist-packages (from kaggle->opendatasets) (1.15.0)\n",
      "Requirement already satisfied: urllib3 in /usr/local/lib/python3.7/dist-packages (from kaggle->opendatasets) (1.24.3)\n",
      "Requirement already satisfied: python-dateutil in /usr/local/lib/python3.7/dist-packages (from kaggle->opendatasets) (2.8.2)\n",
      "Requirement already satisfied: requests in /usr/local/lib/python3.7/dist-packages (from kaggle->opendatasets) (2.23.0)\n",
      "Requirement already satisfied: text-unidecode>=1.3 in /usr/local/lib/python3.7/dist-packages (from python-slugify->kaggle->opendatasets) (1.3)\n",
      "Requirement already satisfied: chardet<4,>=3.0.2 in /usr/local/lib/python3.7/dist-packages (from requests->kaggle->opendatasets) (3.0.4)\n",
      "Requirement already satisfied: idna<3,>=2.5 in /usr/local/lib/python3.7/dist-packages (from requests->kaggle->opendatasets) (2.10)\n"
     ]
    }
   ],
   "source": [
    "!pip install opendatasets"
   ]
  },
  {
   "cell_type": "code",
   "execution_count": 4,
   "metadata": {
    "colab": {
     "base_uri": "https://localhost:8080/"
    },
    "id": "axqgFUPweZbE",
    "outputId": "75cfda35-a558-47d6-845b-618641ef5c8d"
   },
   "outputs": [
    {
     "name": "stdout",
     "output_type": "stream",
     "text": [
      "Downloading pix2pix-dataset.zip to ./pix2pix-dataset\n"
     ]
    },
    {
     "name": "stderr",
     "output_type": "stream",
     "text": [
      "100%|██████████| 2.40G/2.40G [00:56<00:00, 45.6MB/s]\n"
     ]
    },
    {
     "name": "stdout",
     "output_type": "stream",
     "text": [
      "\n"
     ]
    }
   ],
   "source": [
    "import opendatasets as od\n",
    "od.download(\"https://www.kaggle.com/vikramtiwari/pix2pix-dataset\")"
   ]
  },
  {
   "cell_type": "code",
   "execution_count": 5,
   "metadata": {
    "id": "VQgp5WIWEKSW"
   },
   "outputs": [],
   "source": [
    "import torch\n",
    "from torch import nn\n",
    "from tqdm.auto import tqdm\n",
    "from torchvision import transforms\n",
    "from torchvision.datasets import VOCSegmentation\n",
    "from torchvision.utils import make_grid\n",
    "from torch.utils.data import DataLoader\n",
    "import matplotlib.pyplot as plt\n",
    "torch.manual_seed(0)\n",
    "\n",
    "def show_tensor_images(image_tensor , num_images = 25 , size = (1,28 , 28)):\n",
    "  '''\n",
    "    Function for visualizing images: Given a tensor of images, number of images, and\n",
    "    size per image, plots and prints the images in an uniform grid.\n",
    "    '''\n",
    "\n",
    "  image_shifted = image_tensor\n",
    "  image_unflat = image_shifted.detech().cpu().view(-1 , *size)\n",
    "  image_grid = make_grid(image_unflat[: num_images] , n_rows = 5)\n",
    "  plt.show"
   ]
  },
  {
   "cell_type": "markdown",
   "metadata": {
    "id": "ABUxmwnQGOi8"
   },
   "source": [
    "# U-Net Code\n",
    "The U-Net code will be much like the code you wrote for the last assignment, but with optional dropout and batchnorm. The structure is changed slightly for Pix2Pix, so that the final image is closer in size to the input image."
   ]
  },
  {
   "cell_type": "code",
   "execution_count": 6,
   "metadata": {
    "id": "XXY85A5SFVgK"
   },
   "outputs": [],
   "source": [
    "def crop(image, new_shape):\n",
    "    '''\n",
    "    Function for cropping an image tensor: Given an image tensor and the new shape,\n",
    "    crops to the center pixels (assumes that the input's size and the new size are\n",
    "    even numbers).\n",
    "    Parameters:\n",
    "        image: image tensor of shape (batch size, channels, height, width)\n",
    "        new_shape: a torch.Size object with the shape you want x to have\n",
    "    '''\n",
    "    middle_height = image.shape[2] // 2\n",
    "    middle_width = image.shape[3] // 2\n",
    "    starting_height = middle_height - new_shape[2] // 2\n",
    "    final_height = starting_height + new_shape[2]\n",
    "    starting_width = middle_width - new_shape[3] // 2\n",
    "    final_width = starting_width + new_shape[3]\n",
    "    cropped_image = image[:, :, starting_height:final_height, starting_width:final_width]\n",
    "    return cropped_image\n",
    "\n",
    "class ContractingBlock(nn.Module):\n",
    "    '''\n",
    "    ContractingBlock Class\n",
    "    Performs two convolutions followed by a max pool operation.\n",
    "    Values:\n",
    "        input_channels: the number of channels to expect from a given input\n",
    "    '''\n",
    "    def __init__(self, input_channels, use_dropout=False, use_bn=True):\n",
    "        super(ContractingBlock, self).__init__()\n",
    "        self.conv1 = nn.Conv2d(input_channels, input_channels * 2, kernel_size=3, padding=1)\n",
    "        self.conv2 = nn.Conv2d(input_channels * 2, input_channels * 2, kernel_size=3, padding=1)\n",
    "        self.activation = nn.LeakyReLU(0.2)\n",
    "        self.maxpool = nn.MaxPool2d(kernel_size=2, stride=2)\n",
    "        if use_bn:\n",
    "            self.batchnorm = nn.BatchNorm2d(input_channels * 2)\n",
    "        self.use_bn = use_bn\n",
    "        if use_dropout:\n",
    "            self.dropout = nn.Dropout()\n",
    "        self.use_dropout = use_dropout\n",
    "\n",
    "    def forward(self, x):\n",
    "        '''\n",
    "        Function for completing a forward pass of ContractingBlock: \n",
    "        Given an image tensor, completes a contracting block and returns the transformed tensor.\n",
    "        Parameters:\n",
    "            x: image tensor of shape (batch size, channels, height, width)\n",
    "        '''\n",
    "        x = self.conv1(x)\n",
    "        if self.use_bn:\n",
    "            x = self.batchnorm(x)\n",
    "        if self.use_dropout:\n",
    "            x = self.dropout(x)\n",
    "        x = self.activation(x)\n",
    "        x = self.conv2(x)\n",
    "        if self.use_bn:\n",
    "            x = self.batchnorm(x)\n",
    "        if self.use_dropout:\n",
    "            x = self.dropout(x)\n",
    "        x = self.activation(x)\n",
    "        x = self.maxpool(x)\n",
    "        return x\n",
    "\n",
    "class ExpandingBlock(nn.Module):\n",
    "    '''\n",
    "    ExpandingBlock Class:\n",
    "    Performs an upsampling, a convolution, a concatenation of its two inputs,\n",
    "    followed by two more convolutions with optional dropout\n",
    "    Values:\n",
    "        input_channels: the number of channels to expect from a given input\n",
    "    '''\n",
    "    def __init__(self, input_channels, use_dropout=False, use_bn=True):\n",
    "        super(ExpandingBlock, self).__init__()\n",
    "        self.upsample = nn.Upsample(scale_factor=2, mode='bilinear', align_corners=True)\n",
    "        self.conv1 = nn.Conv2d(input_channels, input_channels // 2, kernel_size=2)\n",
    "        self.conv2 = nn.Conv2d(input_channels, input_channels // 2, kernel_size=3, padding=1)\n",
    "        self.conv3 = nn.Conv2d(input_channels // 2, input_channels // 2, kernel_size=2, padding=1)\n",
    "        if use_bn:\n",
    "            self.batchnorm = nn.BatchNorm2d(input_channels // 2)\n",
    "        self.use_bn = use_bn\n",
    "        self.activation = nn.ReLU()\n",
    "        if use_dropout:\n",
    "            self.dropout = nn.Dropout()\n",
    "        self.use_dropout = use_dropout\n",
    "\n",
    "    def forward(self, x, skip_con_x):\n",
    "        '''\n",
    "        Function for completing a forward pass of ExpandingBlock: \n",
    "        Given an image tensor, completes an expanding block and returns the transformed tensor.\n",
    "        Parameters:\n",
    "            x: image tensor of shape (batch size, channels, height, width)\n",
    "            skip_con_x: the image tensor from the contracting path (from the opposing block of x)\n",
    "                    for the skip connection\n",
    "        '''\n",
    "        x = self.upsample(x)\n",
    "        x = self.conv1(x)\n",
    "        skip_con_x = crop(skip_con_x, x.shape)\n",
    "        x = torch.cat([x, skip_con_x], axis=1)\n",
    "        x = self.conv2(x)\n",
    "        if self.use_bn:\n",
    "            x = self.batchnorm(x)\n",
    "        if self.use_dropout:\n",
    "            x = self.dropout(x)\n",
    "        x = self.activation(x)\n",
    "        x = self.conv3(x)\n",
    "        if self.use_bn:\n",
    "            x = self.batchnorm(x)\n",
    "        if self.use_dropout:\n",
    "            x = self.dropout(x)\n",
    "        x = self.activation(x)\n",
    "        return x\n",
    "\n",
    "class FeatureMapBlock(nn.Module):\n",
    "    '''\n",
    "    FeatureMapBlock Class\n",
    "    The final layer of a U-Net - \n",
    "    maps each pixel to a pixel with the correct number of output dimensions\n",
    "    using a 1x1 convolution.\n",
    "    Values:\n",
    "        input_channels: the number of channels to expect from a given input\n",
    "        output_channels: the number of channels to expect for a given output\n",
    "    '''\n",
    "    def __init__(self, input_channels, output_channels):\n",
    "        super(FeatureMapBlock, self).__init__()\n",
    "        self.conv = nn.Conv2d(input_channels, output_channels, kernel_size=1)\n",
    "\n",
    "    def forward(self, x):\n",
    "        '''\n",
    "        Function for completing a forward pass of FeatureMapBlock: \n",
    "        Given an image tensor, returns it mapped to the desired number of channels.\n",
    "        Parameters:\n",
    "            x: image tensor of shape (batch size, channels, height, width)\n",
    "        '''\n",
    "        x = self.conv(x)\n",
    "        return x\n",
    "\n",
    "class UNet(nn.Module):\n",
    "    '''\n",
    "    UNet Class\n",
    "    A series of 4 contracting blocks followed by 4 expanding blocks to \n",
    "    transform an input image into the corresponding paired image, with an upfeature\n",
    "    layer at the start and a downfeature layer at the end.\n",
    "    Values:\n",
    "        input_channels: the number of channels to expect from a given input\n",
    "        output_channels: the number of channels to expect for a given output\n",
    "    '''\n",
    "    def __init__(self, input_channels, output_channels, hidden_channels=32):\n",
    "        super(UNet, self).__init__()\n",
    "        self.upfeature = FeatureMapBlock(input_channels, hidden_channels)\n",
    "        self.contract1 = ContractingBlock(hidden_channels, use_dropout=True)\n",
    "        self.contract2 = ContractingBlock(hidden_channels * 2, use_dropout=True)\n",
    "        self.contract3 = ContractingBlock(hidden_channels * 4, use_dropout=True)\n",
    "        self.contract4 = ContractingBlock(hidden_channels * 8)\n",
    "        self.contract5 = ContractingBlock(hidden_channels * 16)\n",
    "        self.contract6 = ContractingBlock(hidden_channels * 32)\n",
    "        self.expand0 = ExpandingBlock(hidden_channels * 64)\n",
    "        self.expand1 = ExpandingBlock(hidden_channels * 32)\n",
    "        self.expand2 = ExpandingBlock(hidden_channels * 16)\n",
    "        self.expand3 = ExpandingBlock(hidden_channels * 8)\n",
    "        self.expand4 = ExpandingBlock(hidden_channels * 4)\n",
    "        self.expand5 = ExpandingBlock(hidden_channels * 2)\n",
    "        self.downfeature = FeatureMapBlock(hidden_channels, output_channels)\n",
    "        self.sigmoid = torch.nn.Sigmoid()\n",
    "\n",
    "    def forward(self, x):\n",
    "        '''\n",
    "        Function for completing a forward pass of UNet: \n",
    "        Given an image tensor, passes it through U-Net and returns the output.\n",
    "        Parameters:\n",
    "            x: image tensor of shape (batch size, channels, height, width)\n",
    "        '''\n",
    "        x0 = self.upfeature(x)\n",
    "        x1 = self.contract1(x0)\n",
    "        x2 = self.contract2(x1)\n",
    "        x3 = self.contract3(x2)\n",
    "        x4 = self.contract4(x3)\n",
    "        x5 = self.contract5(x4)\n",
    "        x6 = self.contract6(x5)\n",
    "        x7 = self.expand0(x6, x5)\n",
    "        x8 = self.expand1(x7, x4)\n",
    "        x9 = self.expand2(x8, x3)\n",
    "        x10 = self.expand3(x9, x2)\n",
    "        x11 = self.expand4(x10, x1)\n",
    "        x12 = self.expand5(x11, x0)\n",
    "        xn = self.downfeature(x12)\n",
    "        return self.sigmoid(xn)\n",
    "\n",
    "\n",
    "\n",
    "\n",
    "    \n",
    "\n",
    "\n",
    "\n",
    "\n",
    "     \n",
    "   \n",
    "    \n",
    "\n",
    "\n",
    "\n"
   ]
  },
  {
   "cell_type": "markdown",
   "metadata": {
    "id": "8kX0KrOVXpwG"
   },
   "source": [
    "# PatchGAN Discriminator\n",
    "Next, you will define a discriminator based on the contracting path of the U-Net to allow you to evaluate the realism of the generated images. Remember that the discriminator outputs a one-channel matrix of classifications instead of a single value. Your discriminator's final layer will simply map from the final number of hidden channels to a single prediction for every pixel of the layer before it."
   ]
  },
  {
   "cell_type": "code",
   "execution_count": 7,
   "metadata": {
    "id": "9xDLwwy8KP0r"
   },
   "outputs": [],
   "source": [
    "class Discriminator(nn.Module):\n",
    "    '''\n",
    "    Discriminator Class\n",
    "    Structured like the contracting path of the U-Net, the discriminator will\n",
    "    output a matrix of values classifying corresponding portions of the image as real or fake. \n",
    "    Parameters:\n",
    "        input_channels: the number of image input channels\n",
    "        hidden_channels: the initial number of discriminator convolutional filters\n",
    "    '''\n",
    "    def __init__(self, input_channels, hidden_channels=8):\n",
    "        super(Discriminator, self).__init__()\n",
    "        self.upfeature = FeatureMapBlock(input_channels, hidden_channels)\n",
    "        self.contract1 = ContractingBlock(hidden_channels, use_bn=False)\n",
    "        self.contract2 = ContractingBlock(hidden_channels * 2)\n",
    "        self.contract3 = ContractingBlock(hidden_channels * 4)\n",
    "        self.contract4 = ContractingBlock(hidden_channels * 8)\n",
    "        \n",
    "        self.final = nn.Conv2d(hidden_channels * 16, 1, kernel_size=1)\n",
    "        \n",
    "    def forward(self, x, y):\n",
    "        x = torch.cat([x, y], axis=1)\n",
    "        x0 = self.upfeature(x)\n",
    "        x1 = self.contract1(x0)\n",
    "        x2 = self.contract2(x1)\n",
    "        x3 = self.contract3(x2)\n",
    "        x4 = self.contract4(x3)\n",
    "        xn = self.final(x4)\n",
    "        return xn"
   ]
  },
  {
   "cell_type": "code",
   "execution_count": 8,
   "metadata": {
    "colab": {
     "base_uri": "https://localhost:8080/"
    },
    "id": "62fo1LPLb5ER",
    "outputId": "3ce093fb-b938-4292-c546-0bc67b58804f"
   },
   "outputs": [
    {
     "name": "stdout",
     "output_type": "stream",
     "text": [
      "Success!\n"
     ]
    }
   ],
   "source": [
    "# UNIT TEST\n",
    "test_discriminator = Discriminator(10, 1)\n",
    "assert tuple(test_discriminator(\n",
    "    torch.randn(1, 5, 256, 256), \n",
    "    torch.randn(1, 5, 256, 256)\n",
    ").shape) == (1, 1, 16, 16)\n",
    "print(\"Success!\")"
   ]
  },
  {
   "cell_type": "markdown",
   "metadata": {
    "id": "zEXLn2i7dRuw"
   },
   "source": [
    "# Training prepration "
   ]
  },
  {
   "cell_type": "code",
   "execution_count": 9,
   "metadata": {
    "id": "Vgn_SC5hb76N"
   },
   "outputs": [],
   "source": [
    "from torch.nn.modules.linear import NonDynamicallyQuantizableLinear\n",
    "import torch.nn.functional as F\n",
    "# New parameters\n",
    "adv_criterion = nn.BCEWithLogitsLoss() \n",
    "recon_criterion = nn.L1Loss() \n",
    "lambda_recon = 200\n",
    "\n",
    "n_epochs = 20\n",
    "input_dim = 3\n",
    "real_dim = 3\n",
    "display_step = 200\n",
    "batch_size = 4\n",
    "lr = 0.0002\n",
    "target_shape = 256\n",
    "device = 'cuda'\n"
   ]
  },
  {
   "cell_type": "code",
   "execution_count": 12,
   "metadata": {
    "id": "jaJnUod9dlmL"
   },
   "outputs": [],
   "source": [
    "transform = transforms.Compose([\n",
    "    transforms.ToTensor(),\n",
    "])\n",
    "\n",
    "import torchvision\n",
    "dataset = torchvision.datasets.ImageFolder(\"pix2pix-dataset\", transform=transform)"
   ]
  },
  {
   "cell_type": "code",
   "execution_count": 17,
   "metadata": {
    "id": "w7rXuj9jdqv2"
   },
   "outputs": [],
   "source": [
    "gen = UNet(input_dim , real_dim ).to(device)\n",
    "gen_opt = torch.optim.Adam(gen.parameters() , lr = lr)\n",
    "disc  =Discriminator(input_dim + real_dim).to(device)\n",
    "disc_opt = torch.optim.Adam(disc.parameters(), lr=lr)\n",
    "\n",
    "def weights_init(m):\n",
    "    if isinstance(m, nn.Conv2d) or isinstance(m, nn.ConvTranspose2d):\n",
    "        torch.nn.init.normal_(m.weight, 0.0, 0.02)\n",
    "    if isinstance(m, nn.BatchNorm2d):\n",
    "        torch.nn.init.normal_(m.weight, 0.0, 0.02)\n",
    "        torch.nn.init.constant_(m.bias, 0)\n",
    "\n",
    "\n",
    "# Feel free to change pretrained to False if you're training the model from scratch\n",
    "pretrained = False\n",
    "if pretrained:\n",
    "    loaded_state = torch.load(\"pix2pix_15000.pth\")\n",
    "    gen.load_state_dict(loaded_state[\"gen\"])\n",
    "    gen_opt.load_state_dict(loaded_state[\"gen_opt\"])\n",
    "    disc.load_state_dict(loaded_state[\"disc\"])\n",
    "    disc_opt.load_state_dict(loaded_state[\"disc_opt\"])\n",
    "else:\n",
    "    gen = gen.apply(weights_init)\n",
    "    disc = disc.apply(weights_init)\n",
    "\n",
    "\n"
   ]
  },
  {
   "cell_type": "code",
   "execution_count": 15,
   "metadata": {
    "id": "O3CNr-HkhQep"
   },
   "outputs": [],
   "source": [
    "def get_gen_loss(gen, disc, real, condition, adv_criterion, recon_criterion, lambda_recon):\n",
    "    '''\n",
    "    Return the loss of the generator given inputs.\n",
    "    Parameters:\n",
    "        gen: the generator; takes the condition and returns potential images\n",
    "        disc: the discriminator; takes images and the condition and\n",
    "          returns real/fake prediction matrices\n",
    "        real: the real images (e.g. maps) to be used to evaluate the reconstruction\n",
    "        condition: the source images (e.g. satellite imagery) which are used to produce the real images\n",
    "        adv_criterion: the adversarial loss function; takes the discriminator \n",
    "                  predictions and the true labels and returns a adversarial \n",
    "                  loss (which you aim to minimize)\n",
    "        recon_criterion: the reconstruction loss function; takes the generator \n",
    "                    outputs and the real images and returns a reconstructuion \n",
    "                    loss (which you aim to minimize)\n",
    "        lambda_recon: the degree to which the reconstruction loss should be weighted in the sum\n",
    "    '''\n",
    "    # Steps: 1) Generate the fake images, based on the conditions.\n",
    "    #        2) Evaluate the fake images and the condition with the discriminator.\n",
    "    #        3) Calculate the adversarial and reconstruction losses.\n",
    "    #        4) Add the two losses, weighting the reconstruction loss appropriately.\n",
    "   \n",
    "    fake = gen(condition)\n",
    "    disc_fake_hat = disc(fake, condition)\n",
    "    gen_adv_loss = adv_criterion(disc_fake_hat, torch.ones_like(disc_fake_hat))\n",
    "    gen_rec_loss = recon_criterion(real, fake)\n",
    "    gen_loss = gen_adv_loss + lambda_recon * gen_rec_loss\n",
    "    \n",
    "    return gen_loss"
   ]
  },
  {
   "cell_type": "code",
   "execution_count": 16,
   "metadata": {
    "colab": {
     "base_uri": "https://localhost:8080/"
    },
    "id": "JKuSX2hVhhkA",
    "outputId": "ef44d012-b99a-442b-fb5a-472cd756eb6e"
   },
   "outputs": [
    {
     "name": "stdout",
     "output_type": "stream",
     "text": [
      "Success!\n"
     ]
    }
   ],
   "source": [
    "# UNIT TEST\n",
    "def test_gen_reasonable(num_images=10):\n",
    "    gen = torch.zeros_like\n",
    "    disc = lambda x, y: torch.ones(len(x), 1)\n",
    "    real = None\n",
    "    condition = torch.ones(num_images, 3, 10, 10)\n",
    "    adv_criterion = torch.mul\n",
    "    recon_criterion = lambda x, y: torch.tensor(0)\n",
    "    lambda_recon = 0\n",
    "    assert get_gen_loss(gen, disc, real, condition, adv_criterion, recon_criterion, lambda_recon).sum() == num_images\n",
    "\n",
    "    disc = lambda x, y: torch.zeros(len(x), 1)\n",
    "    assert torch.abs(get_gen_loss(gen, disc, real, condition, adv_criterion, recon_criterion, lambda_recon)).sum() == 0\n",
    "\n",
    "    adv_criterion = lambda x, y: torch.tensor(0)\n",
    "    recon_criterion = lambda x, y: torch.abs(x - y).max()\n",
    "    real = torch.randn(num_images, 3, 10, 10)\n",
    "    lambda_recon = 2\n",
    "    gen = lambda x: real + 1\n",
    "    assert torch.abs(get_gen_loss(gen, disc, real, condition, adv_criterion, recon_criterion, lambda_recon) - 2) < 1e-4\n",
    "\n",
    "    adv_criterion = lambda x, y: (x + y).max() + x.max()\n",
    "    assert torch.abs(get_gen_loss(gen, disc, real, condition, adv_criterion, recon_criterion, lambda_recon) - 3) < 1e-4\n",
    "test_gen_reasonable()\n",
    "print(\"Success!\")"
   ]
  },
  {
   "cell_type": "markdown",
   "metadata": {
    "id": "Z2W8JLOlhmfs"
   },
   "source": [
    "# Pix2Pix Training"
   ]
  },
  {
   "cell_type": "code",
   "execution_count": null,
   "metadata": {
    "id": "RShCBEKFhkzw"
   },
   "outputs": [],
   "source": [
    "from skimage import color\n",
    "import numpy as np\n",
    "\n",
    "def train(save_model=False):\n",
    "    mean_generator_loss = 0\n",
    "    mean_discriminator_loss = 0\n",
    "    dataloader = DataLoader(dataset, batch_size=batch_size, shuffle=True)\n",
    "    cur_step = 0\n",
    "\n",
    "    for epoch in range(n_epochs):\n",
    "        # Dataloader returns the batches\n",
    "        for image, _ in tqdm(dataloader):\n",
    "            image_width = image.shape[3]\n",
    "            condition = image[:, :, :, :image_width // 2]\n",
    "            condition = nn.functional.interpolate(condition, size=target_shape)\n",
    "            real = image[:, :, :, image_width // 2:]\n",
    "            real = nn.functional.interpolate(real, size=target_shape)\n",
    "            cur_batch_size = len(condition)\n",
    "            condition = condition.to(device)\n",
    "            real = real.to(device)\n",
    "\n",
    "            ### Update discriminator ###\n",
    "            disc_opt.zero_grad() # Zero out the gradient before backpropagation\n",
    "            with torch.no_grad():\n",
    "                fake = gen(condition)\n",
    "            disc_fake_hat = disc(fake.detach(), condition) # Detach generator\n",
    "            disc_fake_loss = adv_criterion(disc_fake_hat, torch.zeros_like(disc_fake_hat))\n",
    "            disc_real_hat = disc(real, condition)\n",
    "            disc_real_loss = adv_criterion(disc_real_hat, torch.ones_like(disc_real_hat))\n",
    "            disc_loss = (disc_fake_loss + disc_real_loss) / 2\n",
    "            disc_loss.backward(retain_graph=True) # Update gradients\n",
    "            disc_opt.step() # Update optimizer\n",
    "\n",
    "            ### Update generator ###\n",
    "            gen_opt.zero_grad()\n",
    "            gen_loss = get_gen_loss(gen, disc, real, condition, adv_criterion, recon_criterion, lambda_recon)\n",
    "            gen_loss.backward() # Update gradients\n",
    "            gen_opt.step() # Update optimizer\n",
    "\n",
    "            # Keep track of the average discriminator loss\n",
    "            mean_discriminator_loss += disc_loss.item() / display_step\n",
    "            # Keep track of the average generator loss\n",
    "            mean_generator_loss += gen_loss.item() / display_step\n",
    "\n",
    "            ### Visualization code ###\n",
    "            if cur_step % display_step == 0:\n",
    "                if cur_step > 0:\n",
    "                    print(f\"Epoch {epoch}: Step {cur_step}: Generator (U-Net) loss: {mean_generator_loss}, Discriminator loss: {mean_discriminator_loss}\")\n",
    "                else:\n",
    "                    print(\"Pretrained initial state\")\n",
    "                show_tensor_images(condition, size=(input_dim, target_shape, target_shape))\n",
    "                show_tensor_images(real, size=(real_dim, target_shape, target_shape))\n",
    "                show_tensor_images(fake, size=(real_dim, target_shape, target_shape))\n",
    "                mean_generator_loss = 0\n",
    "                mean_discriminator_loss = 0\n",
    "                # You can change save_model to True if you'd like to save the model\n",
    "                if save_model:\n",
    "                    torch.save({'gen': gen.state_dict(),\n",
    "                        'gen_opt': gen_opt.state_dict(),\n",
    "                        'disc': disc.state_dict(),\n",
    "                        'disc_opt': disc_opt.state_dict()\n",
    "                    }, f\"pix2pix_{cur_step}.pth\")\n",
    "            cur_step += 1\n",
    "train()"
   ]
  }
 ],
 "metadata": {
  "accelerator": "GPU",
  "colab": {
   "name": "pix2pix.ipynb",
   "provenance": []
  },
  "language_info": {
   "name": "python"
  }
 },
 "nbformat": 4,
 "nbformat_minor": 0
}