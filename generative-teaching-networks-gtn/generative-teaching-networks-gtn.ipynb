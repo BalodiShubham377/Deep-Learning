{
 "cells": [
  {
   "cell_type": "markdown",
   "metadata": {
    "id": "JRSTKghTXFjp"
   },
   "source": [
    "# generative-teaching-networks-gtn\n",
    "\n",
    "Use the \"Run\" button to execute the code."
   ]
  },
  {
   "cell_type": "code",
   "execution_count": 3,
   "metadata": {
    "executionInfo": {
     "elapsed": 3537,
     "status": "ok",
     "timestamp": 1647933085811,
     "user": {
      "displayName": "Shubham Balodi",
      "photoUrl": "https://lh3.googleusercontent.com/a/default-user=s64",
      "userId": "12667125085737334074"
     },
     "user_tz": -330
    },
    "id": "eWEZOALWXFjs"
   },
   "outputs": [],
   "source": [
    "!pip install jovian --upgrade --quiet"
   ]
  },
  {
   "cell_type": "code",
   "execution_count": 4,
   "metadata": {
    "executionInfo": {
     "elapsed": 14,
     "status": "ok",
     "timestamp": 1647933085813,
     "user": {
      "displayName": "Shubham Balodi",
      "photoUrl": "https://lh3.googleusercontent.com/a/default-user=s64",
      "userId": "12667125085737334074"
     },
     "user_tz": -330
    },
    "id": "ENU8AdGHXFjt"
   },
   "outputs": [],
   "source": [
    "import jovian"
   ]
  },
  {
   "cell_type": "code",
   "execution_count": 5,
   "metadata": {
    "colab": {
     "base_uri": "https://localhost:8080/",
     "height": 106
    },
    "executionInfo": {
     "elapsed": 3144,
     "status": "ok",
     "timestamp": 1647933088945,
     "user": {
      "displayName": "Shubham Balodi",
      "photoUrl": "https://lh3.googleusercontent.com/a/default-user=s64",
      "userId": "12667125085737334074"
     },
     "user_tz": -330
    },
    "id": "9Vjg42XuXFju",
    "outputId": "6531aa73-2b76-4f11-ce22-8b2410fefe1f"
   },
   "outputs": [
    {
     "name": "stdout",
     "output_type": "stream",
     "text": [
      "[jovian] Detected Colab notebook...\u001b[0m\n",
      "[jovian] Uploading colab notebook to Jovian...\u001b[0m\n",
      "Committed successfully! https://jovian.ai/shubhambalodi79/generative-teaching-networks-gtn\n"
     ]
    },
    {
     "data": {
      "application/vnd.google.colaboratory.intrinsic+json": {
       "type": "string"
      },
      "text/plain": [
       "'https://jovian.ai/shubhambalodi79/generative-teaching-networks-gtn'"
      ]
     },
     "execution_count": 5,
     "metadata": {},
     "output_type": "execute_result"
    }
   ],
   "source": [
    "# Execute this to save new versions of the notebook\n",
    "jovian.commit(project=\"generative-teaching-networks-gtn\")"
   ]
  },
  {
   "cell_type": "markdown",
   "metadata": {
    "id": "YD67th27XPcf"
   },
   "source": [
    "### Goals \n",
    "\n",
    "In this notebook, you'll be implementing a Generative Teaching Network (GTN), first introduced in [Generative Teaching Networks: Accelerating Neural Architecture Search by Learning to Generate Synthetic Training Data](https://arxiv.org/abs/1912.07768) (Such et al. 2019). Essentially, a GTN is composed of a generator (i.e. teacher), which produces synthetic data, and a student, which is trained on this data for some task. The key difference between GTNs and GANs is that GTN models work cooperatively (as opposed to adversarially).\n",
    "\n",
    "Throughout this notebook, you'll gain (deeper) exposure to the following concepts:\n",
    "\n",
    "1. **End-to-End Data Augmentation.** Data augmentation refers to the generation of more data from existing data to *augment* the training set. Examples of this with images include operations like random cropping and flipping. In this sense, the generator performs data augmentation by synthesizing data as extra training data. GTNs differ from previous data augmentation approaches in that:\n",
    "    - The generator and student are trained together, as opposed to training and freezing the generator, then training the student.\n",
    "    - The real data plays a small role: it's only used once every several student updates to update the generator with respect to the student's performance.\n",
    "    - The generated data doesn't look realistic (see visualization later in notebook) yet it's more effective for training the student than real data is!\n",
    "\n",
    "2. **Curriculum Learning.** The generator not only can synthesize data from random noise, but also can learn this random noise, or *curriculum*. By backpropagating through the inputs, the generator can be trained to select the curricula that it deems will be best for student learning.\n",
    "\n",
    "3. **Meta-Learning.** Meta-learning refers to \"learning to learn,\" a broad field that optimizes over different learning tasks to find the best way to learn. You're probably an example of a good meta-learner :). A GTN accomplishes this by training the generator to understand how the student learns, demonstrated via curriculum learning.\n",
    "\n",
    "4. **Neural Architecture Search.** But wait, there's still more! The generator doesn't just guide student training, it also can help determine the optimal student architecture (i.e. which layers, network depth). This concept of learning the best architecture is called Neural Architecture Search, or NAS. Pretty convenient, huh!\n",
    "\n",
    "![Figure 1a from the paper](https://github.com/https-deeplearning-ai/GANs-Public/blob/master/gtn_fig1.png?raw=true)\n",
    "*Figure 1(a) from the [GTN paper](https://arxiv.org/pdf/1912.07768.pdf), providing an overview of the method*\n",
    "\n",
    "### Learning Objectives\n",
    "\n",
    "By the end of this notebook, you should:\n",
    "\n",
    "1. Understand the concepts of teaching networks, meta-learning, and neural architecture search, and how they relate to the objective of data augmentation.\n",
    "2. Implement and train a GTN on MNIST, and observe how a GTN can accelerate training."
   ]
  },
  {
   "cell_type": "code",
   "execution_count": null,
   "metadata": {
    "colab": {
     "base_uri": "https://localhost:8080/"
    },
    "executionInfo": {
     "elapsed": 11640,
     "status": "ok",
     "timestamp": 1647931411920,
     "user": {
      "displayName": "Shubham Balodi",
      "photoUrl": "https://lh3.googleusercontent.com/a/default-user=s64",
      "userId": "12667125085737334074"
     },
     "user_tz": -330
    },
    "id": "OuUcSQt5XFjx",
    "outputId": "4ffddc28-0b22-43eb-de1d-7a41e9cc6bd0"
   },
   "outputs": [
    {
     "name": "stdout",
     "output_type": "stream",
     "text": [
      "Collecting higher\n",
      "  Downloading higher-0.2.1-py3-none-any.whl (27 kB)\n",
      "Requirement already satisfied: torch in /usr/local/lib/python3.7/dist-packages (from higher) (1.10.0+cu111)\n",
      "Requirement already satisfied: typing-extensions in /usr/local/lib/python3.7/dist-packages (from torch->higher) (3.10.0.2)\n",
      "Installing collected packages: higher\n",
      "Successfully installed higher-0.2.1\n",
      "3.7.12 (default, Jan 15 2022, 18:48:18) \n",
      "[GCC 7.5.0]\n",
      "1.10.0+cu111\n"
     ]
    }
   ],
   "source": [
    "import os\n",
    "import sys\n",
    "import math\n",
    "import random\n",
    "\n",
    "import numpy as np\n",
    "import matplotlib.pyplot as plt\n",
    "from PIL import Image\n",
    "\n",
    "import torch\n",
    "import torch.nn as nn\n",
    "import torch.nn.functional as F\n",
    "import torch.optim as optim\n",
    "from torch import Tensor\n",
    "from torch.autograd import grad\n",
    "\n",
    "import torchvision\n",
    "import torchvision.datasets as datasets\n",
    "import torchvision.transforms as transforms\n",
    "from torch.autograd import Variable\n",
    "\n",
    "if 'higher' not in sys.modules:\n",
    "  !pip install higher\n",
    "import higher as higher\n",
    "\n",
    "print(sys.version)\n",
    "print(torch.__version__)"
   ]
  },
  {
   "cell_type": "code",
   "execution_count": null,
   "metadata": {
    "id": "AJzkB9_qXZwN"
   },
   "outputs": [],
   "source": [
    "# Set random seeds\n",
    "random.seed(0)\n",
    "torch.manual_seed(0)\n",
    "np.random.seed(0)\n",
    "\n",
    "# Set important parameters\n",
    "learning_rate = 1e-2\n",
    "inner_loop_iterations = 32\n",
    "outer_loop_iterations = 5\n",
    "num_classes = 10\n",
    "\n",
    "noise_size = 64     # size of noise or curriculum vector\n",
    "img_size = 28    # width / height of generated image\n",
    "\n",
    "inner_loop_batch_size = 128\n",
    "outer_loop_batch_size = 128\n",
    "\n",
    "mnist_mean = 0.1307         # for normalizing mnist images\n",
    "mnist_std = 0.3081          # for normalizing mnist images\n",
    "\n",
    "imgs_per_row = num_classes"
   ]
  },
  {
   "cell_type": "markdown",
   "metadata": {
    "id": "cQU8R9OgXvfu"
   },
   "source": [
    "### Dataset\n",
    "\n",
    "Download the MNIST dataset and organize it into a `torch.utils.data.Dataset` object. Then apply `torchvision.transforms` to convert raw PIL images to tensors."
   ]
  },
  {
   "cell_type": "code",
   "execution_count": null,
   "metadata": {
    "colab": {
     "base_uri": "https://localhost:8080/",
     "height": 450,
     "referenced_widgets": [
      "114b1669a09e4a5b9670f8445cdfab6f",
      "1e7636c36b794eec9912da489101373e",
      "5b04ac582c054ab3adb0971411c7f41f",
      "b150444f76634a45821c64f379961cf8",
      "7562a0b658bb42558370464f4a66b501",
      "185bed6d8e404865828ce12908516194",
      "88f7760314404b6a9c81a81266d90e7f",
      "a1a4ea6695b741248c3375e3dbd52d32",
      "52be8b0b4e1d4bbba2f19146f31d1c36",
      "58daa181472e438090c54efe8e218310",
      "1fe3910cbe3d47c0a3c83fefd24d7a5b",
      "a96c9a9cbc2643ea911387b458adfb5e",
      "02ee5df810614672a59d06b4f73c330b",
      "4372b2abd6cb449e823673be32c93aa6",
      "015cef05d00744cc8ad3ae6de517e23b",
      "c8522c851842427f876d882e7bc6a5cb",
      "7451b6c486e0477fa325c36bb057549a",
      "bec6ca93149e49118992a754b9824838",
      "019ba11ffb544fee82446044cd15635a",
      "1c2b4240a46048d0be10a1df370e9c0b",
      "5846f3240d834f7ba174ae30cdd51f76",
      "b9f2714c211246f6bbe51e54275de5b9",
      "4c23702bb18749329003fca426fd0035",
      "4f26b93b59be4334a21b5b4e43d07aa2",
      "d171891e1dc143fe9fa177f487252a50",
      "eeb5209971bf40bc93df9e7b0d13638c",
      "99819245c9ac48f0994ce344a5a20f76",
      "65bbabae20bf43cf8c1707077ada2359",
      "e5633f6228514f4080c271c04f5d9f21",
      "086feaa9bd3b4542a7ea6338975b593d",
      "ea9f77b3c44f44539b8f9627bdc1b52a",
      "76efe2f3f5ad4c78bc67a4f531b85186",
      "0c2ed78ca1fd4f5baeee5512e06953b1",
      "3b93dc7db60d415895b6f90cf086b2a7",
      "3afb5a8465e145b2ab0c4a28307fe54d",
      "74164c0a1d654418b31d6b68cd1fcb8a",
      "32973bff61ea4485bc1b6c7a29cb76c2",
      "04138b859d9544d7b527325b6647293e",
      "aa1c1f6528844153b45fb5a3f22a097a",
      "566aea0b46764db188604a4298f782a4",
      "11a8e2667a184875982af7229666e09a",
      "3e886666f86b45679182d3317c7c0f0c",
      "df2259dec1024b01a72a857fd49fcf20",
      "5876067566874f59b021e5e69db6eaa8"
     ]
    },
    "executionInfo": {
     "elapsed": 1667,
     "status": "ok",
     "timestamp": 1647931764863,
     "user": {
      "displayName": "Shubham Balodi",
      "photoUrl": "https://lh3.googleusercontent.com/a/default-user=s64",
      "userId": "12667125085737334074"
     },
     "user_tz": -330
    },
    "id": "p_2V3EltXsOo",
    "outputId": "24cf7570-c9bc-4fd4-bc8a-b774702fbd3a"
   },
   "outputs": [
    {
     "name": "stdout",
     "output_type": "stream",
     "text": [
      "Downloading http://yann.lecun.com/exdb/mnist/train-images-idx3-ubyte.gz\n",
      "Downloading http://yann.lecun.com/exdb/mnist/train-images-idx3-ubyte.gz to ./data/MNIST/raw/train-images-idx3-ubyte.gz\n"
     ]
    },
    {
     "data": {
      "application/vnd.jupyter.widget-view+json": {
       "model_id": "114b1669a09e4a5b9670f8445cdfab6f",
       "version_major": 2,
       "version_minor": 0
      },
      "text/plain": [
       "  0%|          | 0/9912422 [00:00<?, ?it/s]"
      ]
     },
     "metadata": {},
     "output_type": "display_data"
    },
    {
     "name": "stdout",
     "output_type": "stream",
     "text": [
      "Extracting ./data/MNIST/raw/train-images-idx3-ubyte.gz to ./data/MNIST/raw\n",
      "\n",
      "Downloading http://yann.lecun.com/exdb/mnist/train-labels-idx1-ubyte.gz\n",
      "Downloading http://yann.lecun.com/exdb/mnist/train-labels-idx1-ubyte.gz to ./data/MNIST/raw/train-labels-idx1-ubyte.gz\n"
     ]
    },
    {
     "data": {
      "application/vnd.jupyter.widget-view+json": {
       "model_id": "a96c9a9cbc2643ea911387b458adfb5e",
       "version_major": 2,
       "version_minor": 0
      },
      "text/plain": [
       "  0%|          | 0/28881 [00:00<?, ?it/s]"
      ]
     },
     "metadata": {},
     "output_type": "display_data"
    },
    {
     "name": "stdout",
     "output_type": "stream",
     "text": [
      "Extracting ./data/MNIST/raw/train-labels-idx1-ubyte.gz to ./data/MNIST/raw\n",
      "\n",
      "Downloading http://yann.lecun.com/exdb/mnist/t10k-images-idx3-ubyte.gz\n",
      "Downloading http://yann.lecun.com/exdb/mnist/t10k-images-idx3-ubyte.gz to ./data/MNIST/raw/t10k-images-idx3-ubyte.gz\n"
     ]
    },
    {
     "data": {
      "application/vnd.jupyter.widget-view+json": {
       "model_id": "4c23702bb18749329003fca426fd0035",
       "version_major": 2,
       "version_minor": 0
      },
      "text/plain": [
       "  0%|          | 0/1648877 [00:00<?, ?it/s]"
      ]
     },
     "metadata": {},
     "output_type": "display_data"
    },
    {
     "name": "stdout",
     "output_type": "stream",
     "text": [
      "Extracting ./data/MNIST/raw/t10k-images-idx3-ubyte.gz to ./data/MNIST/raw\n",
      "\n",
      "Downloading http://yann.lecun.com/exdb/mnist/t10k-labels-idx1-ubyte.gz\n",
      "Downloading http://yann.lecun.com/exdb/mnist/t10k-labels-idx1-ubyte.gz to ./data/MNIST/raw/t10k-labels-idx1-ubyte.gz\n"
     ]
    },
    {
     "data": {
      "application/vnd.jupyter.widget-view+json": {
       "model_id": "3b93dc7db60d415895b6f90cf086b2a7",
       "version_major": 2,
       "version_minor": 0
      },
      "text/plain": [
       "  0%|          | 0/4542 [00:00<?, ?it/s]"
      ]
     },
     "metadata": {},
     "output_type": "display_data"
    },
    {
     "name": "stdout",
     "output_type": "stream",
     "text": [
      "Extracting ./data/MNIST/raw/t10k-labels-idx1-ubyte.gz to ./data/MNIST/raw\n",
      "\n",
      "Created train, val, and test datasets.\n"
     ]
    }
   ],
   "source": [
    "transform = transforms.Compose([\n",
    "            transforms.Lambda(lambda x : np.array(x)),\n",
    "            transforms.ToTensor(),\n",
    "            transforms.Normalize((mnist_mean,), (mnist_std,)),\n",
    "])\n",
    "\n",
    "## create data split \n",
    "train = datasets.MNIST(\"./data\" , train = True , transform = transform , download = True)\n",
    "train, val = torch.utils.data.random_split(train, [50000, 10000])\n",
    "test = datasets.MNIST('./data', train=False, transform=transform, download=True)\n",
    "print('Created train, val, and test datasets.')"
   ]
  },
  {
   "cell_type": "markdown",
   "metadata": {
    "id": "dhcjSqzyY4dp"
   },
   "source": [
    "### Dataloader\n",
    "\n",
    "Now wrap your dataset class in a `torch.utils.data.DataLoader` class, which will iterate over batches in training. This class increases memory access bandwidth so retrieving images from your dataset won't be a bottleneck in training. MNIST images are small, so the increase in memory retrieval speed should be relatively trivial."
   ]
  },
  {
   "cell_type": "code",
   "execution_count": null,
   "metadata": {
    "id": "t2ZuUKg5YtHf"
   },
   "outputs": [],
   "source": [
    "train_loader = torch.utils.data.DataLoader(\n",
    "    train, batch_size=outer_loop_batch_size, shuffle=True, drop_last=True, num_workers=1, pin_memory=True,\n",
    ")\n",
    "\n",
    "val_loader = torch.utils.data.DataLoader(\n",
    "    val, batch_size=outer_loop_batch_size, shuffle=True, drop_last=True, num_workers=1, pin_memory=True,\n",
    ")\n",
    "\n",
    "test_loader = torch.utils.data.DataLoader(\n",
    "    test, batch_size=outer_loop_batch_size, shuffle=True, drop_last=True, num_workers=1, pin_memory=True,\n",
    ")"
   ]
  },
  {
   "cell_type": "markdown",
   "metadata": {
    "id": "rGFvM-iHZZsB"
   },
   "source": [
    "## MNIST Classification\n",
    "\n",
    "In this next section, you'll implement and train a GTN on MNIST classification. Note that the student model for this task is a classifier. To extend GTNs to other datasets, you also want to check out the weight normalization technique in the paper --- for now on MNIST, you don't need to worry about this. Alright, let's get started with the generator and classifier's model architecture!"
   ]
  },
  {
   "cell_type": "markdown",
   "metadata": {
    "id": "ijeITt1tZekZ"
   },
   "source": [
    "### Generator \n",
    "\n",
    "Let's now build the generator. For this task, the generator will consist of two fully connected blocks (each consisting of a fully connected layer, a leaky ReLU, and a batch normalization layer) and two convolutional blocks (each consisting of a convolutional layer, a batch normalization layer and a leaky ReLU). A tanh layer is applied to this output to center it around `0` with reasonable standard deviation."
   ]
  },
  {
   "cell_type": "code",
   "execution_count": 10,
   "metadata": {
    "executionInfo": {
     "elapsed": 8,
     "status": "ok",
     "timestamp": 1647932452304,
     "user": {
      "displayName": "Shubham Balodi",
      "photoUrl": "https://lh3.googleusercontent.com/a/default-user=s64",
      "userId": "12667125085737334074"
     },
     "user_tz": -330
    },
    "id": "bd-qwNwsZXAD"
   },
   "outputs": [],
   "source": [
    "class Teacher(nn.Module):\n",
    "    '''\n",
    "    Implements a Teacher module.\n",
    "    '''\n",
    "    def __init__(self):\n",
    "        super().__init__()\n",
    "\n",
    "        conv1_filters = 64\n",
    "        fc1_size = 1024\n",
    "        \n",
    "        self.fc2_filters = 128\n",
    "        self.fc2_width = img_size\n",
    "        fc2_size = self.fc2_filters * self.fc2_width * self.fc2_width\n",
    "\n",
    "        self.fc1 = nn.Linear(noise_size + num_classes, fc1_size)\n",
    "        nn.init.kaiming_normal_(self.fc1.weight, 0.1)\n",
    "        self.bn_fc1 = nn.BatchNorm1d(fc1_size, momentum=0.1)\n",
    "\n",
    "        self.fc2 = nn.Linear(fc1_size, fc2_size)\n",
    "        nn.init.kaiming_normal_(self.fc2.weight, 0.1)\n",
    "        self.bn_fc2 = nn.BatchNorm2d(self.fc2_filters, momentum=0.1)\n",
    "\n",
    "        self.conv1 = nn.Conv2d(self.fc2_filters, conv1_filters, 3, 1, padding=3 // 2)\n",
    "        self.bn_conv1 = nn.BatchNorm2d(conv1_filters, momentum=0.1)\n",
    "\n",
    "        self.conv2 = nn.Conv2d(conv1_filters, 1, 3, 1, padding=3 // 2)\n",
    "        self.bn_conv2 = nn.BatchNorm2d(1, momentum=0.1)\n",
    "        \n",
    "        self.tanh = nn.Tanh()\n",
    "\n",
    "        self.learner_optim_params = nn.Parameter(torch.tensor([0.02, 0.5]), True)\n",
    "\n",
    "    def forward(self, x, target):\n",
    "        '''\n",
    "        Synthesizes a batch of training examples for the learner.\n",
    "        Args:\n",
    "            x (torch.tensor): shape (b, 64)\n",
    "            target (torch.tensor): shape (b, 10)\n",
    "        '''\n",
    "        # Fully connected block 1\n",
    "        x = torch.cat([x, target], dim=1)   # shape (b, 64+10)\n",
    "        x = self.fc1(x)                     # shape (b, 1024)\n",
    "        x = F.leaky_relu(x, 0.1)\n",
    "        x = self.bn_fc1(x)\n",
    "\n",
    "        # Fully connected block 2\n",
    "        x = self.fc2(x)                     # shape (b, 128*28*28)\n",
    "        x = F.leaky_relu(x, 0.1)\n",
    "        x = x.view(                         # shape (b, 128, 28, 28)\n",
    "            -1, self.fc2_filters, self.fc2_width, self.fc2_width\n",
    "        )\n",
    "        x = self.bn_fc2(x)\n",
    "\n",
    "        # Convolutional block 1\n",
    "        x = self.conv1(x)                   # shape (b, 64, 28, 28)\n",
    "        x = self.bn_conv1(x)\n",
    "        x = F.leaky_relu(x, 0.1)\n",
    "\n",
    "        # Convolutional block 2\n",
    "        x = self.conv2(x)                   # shape (b, 1, 28,  28)\n",
    "        x = self.bn_conv2(x)\n",
    "\n",
    "        x = (self.tanh(x) + 1 - 2 * mnist_mean) / (2 * mnist_std)\n",
    "        return x, target "
   ]
  },
  {
   "cell_type": "markdown",
   "metadata": {
    "id": "CjrK-SP4bdcO"
   },
   "source": [
    "### Classifier \n",
    "\n",
    "Now let's build the student model, a classifier. Be sure to randomize the number of convolutional filters in the first and second convolution layers so the teacher generalizes to other architectures. This is important since it'll help the teacher perform neural architecture search later.\n",
    "\n",
    "For MNIST classification, the classifier consists of two convolutional blocks (each consisting of a convolutional layer, a leaky ReLU, a batch normalization layer and a max pooling). After these layers, the output is flattened and passed through a fully connected layer, a batch normalization layer, and a softmax to generate probabilities per class."
   ]
  },
  {
   "cell_type": "code",
   "execution_count": 11,
   "metadata": {
    "executionInfo": {
     "elapsed": 7,
     "status": "ok",
     "timestamp": 1647932826400,
     "user": {
      "displayName": "Shubham Balodi",
      "photoUrl": "https://lh3.googleusercontent.com/a/default-user=s64",
      "userId": "12667125085737334074"
     },
     "user_tz": -330
    },
    "id": "NJyC37fWbads"
   },
   "outputs": [],
   "source": [
    "class Learner(nn.Module):\n",
    "  def __init__(self , num_conv1 = None , num_conv2 = None):\n",
    "    super().__init__()\n",
    "\n",
    "    if num_conv1 is None :\n",
    "      conv1_filters = np.random.randint(32 , 64)\n",
    "\n",
    "    else :\n",
    "      conv1_filters = num_conv1 \n",
    "    if num_conv2 is None :\n",
    "      conv2_filters = np.random.randint(64 , 128 )\n",
    "    else : \n",
    "      conv2_filters = num_conv2\n",
    "\n",
    "    self.conv1 = nn.Conv2d(1, conv1_filters , 3,1)\n",
    "    self.bn1 = nn.BatchNorm2d(conv1_filters, momentum=0.1)\n",
    "\n",
    "    self.conv2 = nn.Conv2d(conv1_filters, conv2_filters, 3, 1)\n",
    "    self.bn2 = nn.BatchNorm2d(conv2_filters, momentum=0.1)\n",
    "\n",
    "    c1_size = (img_size - 3 + 1) // 2\n",
    "    c2_size = (c1_size - 3 + 1) // 2\n",
    "        \n",
    "    self.fc = nn.Linear(conv2_filters * c2_size * c2_size, num_classes)\n",
    "    self.bn3 = nn.BatchNorm1d(num_classes, momentum=0.1)\n",
    "        \n",
    "    self.activation = nn.LeakyReLU(0.1)\n",
    "\n",
    "  def forward(self , x):\n",
    "    x = self.conv1(x)\n",
    "    x = self.activation(x)\n",
    "    x = self.bn1(x)\n",
    "    x = F.max_pool2d(x, 2)\n",
    "\n",
    "    x = self.conv2(x)\n",
    "    x = self.activation(x)\n",
    "    x = self.bn2(x)\n",
    "    x = F.max_pool2d(x, 2)\n",
    "\n",
    "    x = torch.flatten(x, 1)\n",
    "    x = self.fc(x)\n",
    "    x = self.bn3(x)\n",
    "\n",
    "    return x\n",
    "    \n",
    "\n",
    "\n",
    "\n",
    "  "
   ]
  },
  {
   "cell_type": "markdown",
   "metadata": {
    "id": "o1I4UmMdc5--"
   },
   "source": [
    "### Training \n",
    "\n",
    "*Note: can run on CPU but need high RAM version of Colab.*\n",
    "\n",
    "Now let's extend the inner loop implementation to train the outer loop loss function. After training the classifier on the synthetic data every `inner_loop_iterations`, evaluate the classifier on a batch of real data and backpropagate the resulting loss to the generator.\n",
    "\n",
    "After training for about 50 outer loop iterations, your validation accuracy should approach 90%. This means that your teacher is so good that it gets your student to a 90% validation accuracy with 32 iterations. That's pretty cool! Notice how the images don't look much like numbers. These images represent a compressed version of the training images with the most salient information needed for training."
   ]
  },
  {
   "cell_type": "code",
   "execution_count": 12,
   "metadata": {
    "executionInfo": {
     "elapsed": 482,
     "status": "ok",
     "timestamp": 1647932893780,
     "user": {
      "displayName": "Shubham Balodi",
      "photoUrl": "https://lh3.googleusercontent.com/a/default-user=s64",
      "userId": "12667125085737334074"
     },
     "user_tz": -330
    },
    "id": "_ty9KdASc1yy"
   },
   "outputs": [],
   "source": [
    "def generate_img (img_tensor):\n",
    "  return torchvision.transforms.ToPILImage()(1 - ((img_tensor * mnist_std) + mnist_mean))"
   ]
  },
  {
   "cell_type": "code",
   "execution_count": 13,
   "metadata": {
    "executionInfo": {
     "elapsed": 1571,
     "status": "ok",
     "timestamp": 1647932915616,
     "user": {
      "displayName": "Shubham Balodi",
      "photoUrl": "https://lh3.googleusercontent.com/a/default-user=s64",
      "userId": "12667125085737334074"
     },
     "user_tz": -330
    },
    "id": "hIHlHhaedGQl"
   },
   "outputs": [],
   "source": [
    "teacher = Teacher()\n",
    "params_to_train = list(teacher.parameters())\n",
    "\n",
    "# If we want to use a curriculum, we initialize the learnable parameters here\n",
    "use_curriculum = True\n",
    "if use_curriculum:\n",
    "    curriculum = nn.Parameter(torch.randn(inner_loop_iterations, inner_loop_batch_size, noise_size), requires_grad=True)\n",
    "    params_to_train += [curriculum]\n",
    "\n",
    "optimizer_teacher = optim.Adam(params_to_train, lr=learning_rate)\n",
    "\n",
    "# For each inner loop iterations, we use the same sequence of labels. \n",
    "# This allows the curriculum vectors to train to stable labels \n",
    "label = torch.tensor([x % num_classes for x in range(inner_loop_batch_size)])\n",
    "\n",
    "# For the inner loop loss, we use cross entropy\n",
    "loss_fn = nn.CrossEntropyLoss()\n",
    "\n",
    "# Here we initialize iterators on the train and val datasets\n",
    "train_iterator = iter(train_loader)\n",
    "val_iterator = iter(val_loader)\n",
    "test_iterator = iter(test_loader)"
   ]
  },
  {
   "cell_type": "code",
   "execution_count": null,
   "metadata": {
    "colab": {
     "base_uri": "https://localhost:8080/",
     "height": 81
    },
    "id": "Sy1QlBPQdLJj",
    "outputId": "e29e729f-28c4-49f9-9378-73065d22a243"
   },
   "outputs": [
    {
     "name": "stdout",
     "output_type": "stream",
     "text": [
      "------------------ Outer loop iteration 1 ------------------\n",
      "Examples 0 - 9 from beginning of inner loop:\n"
     ]
    },
    {
     "data": {
      "image/png": "[encoded data removed]",
      "text/plain": [
       "<PIL.Image.Image image mode=L size=291x30 at 0x7F9CF2739290>"
      ]
     },
     "metadata": {},
     "output_type": "display_data"
    }
   ],
   "source": [
    "for it, real_data in enumerate(train_loader):\n",
    "\n",
    "    teacher.train()\n",
    "    optimizer_teacher.zero_grad()\n",
    "\n",
    "    # We also optimize the learner learning rate and momentum with the\n",
    "    # outer loop updates\n",
    "    learner_lr = teacher.learner_optim_params[0]\n",
    "    learner_momentum = teacher.learner_optim_params[1]\n",
    "\n",
    "    # Here we sample a learner with random number of conv filters\n",
    "    learner = Learner()\n",
    "    inner_optim = optim.SGD(learner.parameters(), lr=learner_lr.item(), momentum=learner_momentum.item())\n",
    "    learner.train()\n",
    "\n",
    "    inner_losses = []\n",
    "    with higher.innerloop_ctx(learner, inner_optim, override={'lr': [learner_lr], 'momentum': [learner_momentum]}) as (flearner, diffopt):\n",
    "        for step in range(inner_loop_iterations):\n",
    "\n",
    "            # Data generation\n",
    "            if use_curriculum:\n",
    "                z_vec = curriculum[step]\n",
    "            else:\n",
    "                z_vec = torch.randn(inner_loop_batch_size, noise_size)\n",
    "\n",
    "            one_hot = F.one_hot(label, num_classes)\n",
    "    \n",
    "            # Pass input to teacher to generate synthetic images\n",
    "            teacher_output, teacher_target = teacher(z_vec, one_hot)\n",
    "\n",
    "            # ====== Show intermediate generated images ======\n",
    "            if step == 0:\n",
    "                print('------------------ Outer loop iteration', it + 1, '------------------')\n",
    "                print('Examples 0 - 9 from beginning of inner loop:')\n",
    "                background = Image.new('L', (img_size * imgs_per_row + imgs_per_row + 1, img_size + 2))\n",
    "                for i in range(imgs_per_row): # indexes column \n",
    "                    background.paste(generate_img(teacher_output[i]), (i * 28 + i + 1, 1))\n",
    "                display(background)\n",
    "\n",
    "            if step == (inner_loop_iterations - 1):\n",
    "                print('Examples 0 - 9 from end of inner loop:')\n",
    "                background = Image.new('L', (img_size * imgs_per_row + imgs_per_row + 1, img_size + 2))\n",
    "                for i in range(imgs_per_row): # indexes column\n",
    "                    background.paste(generate_img(teacher_output[i]), (i * 28 + i + 1, 1))\n",
    "                display(background)\n",
    "\n",
    "            # Pass teacher output to the learner \n",
    "            learner_output = flearner(teacher_output)\n",
    "            loss = loss_fn(learner_output, label)\n",
    "            diffopt.step(loss)\n",
    "\n",
    "            inner_losses.append(loss.item())\n",
    "\n",
    "        correct = 0\n",
    "        data, target = real_data\n",
    "        output = flearner(data)\n",
    "        loss = loss_fn(output, target)\n",
    "        pred = output.argmax(dim=1, keepdim=True)\n",
    "        correct += pred.eq(target.view_as(pred)).sum().item()\n",
    "\n",
    "        accuracy_train = correct / target.shape[0]\n",
    "\n",
    "        print(\"Inner loop losses:\", inner_losses)\n",
    "        print(\"Train accuracy:\", accuracy_train)\n",
    "\n",
    "        # Compute accuracy on validation set\n",
    "        data, target = next(val_iterator)\n",
    "        print\n",
    "        output = flearner(data)\n",
    "        pred = output.argmax(dim=1, keepdim=True)\n",
    "        correct = pred.eq(target.view_as(pred)).sum().item()\n",
    "        accuracy = correct / outer_loop_batch_size\n",
    "        print(\"Val accuracy:\", accuracy)\n",
    "\n",
    "        if (it == outer_loop_iterations - 1):\n",
    "            # Compute accuracy on test set\n",
    "            correct = 0\n",
    "            for i, (data, target) in enumerate(test_loader):\n",
    "                output = flearner(data)\n",
    "                pred = output.argmax(dim=1, keepdim=True)\n",
    "                correct += pred.eq(target.view_as(pred)).sum().item()\n",
    "            accuracy = correct / (outer_loop_batch_size * len(test_loader))\n",
    "            print(\"----------------------------------\")\n",
    "            print(\"Done training...\")\n",
    "            print(\"Final test accuracy:\", accuracy)\n",
    "\n",
    "            # Final inner loop training curve\n",
    "            plt.plot(np.arange(len(inner_losses)), inner_losses)\n",
    "            plt.xlabel(\"Inner loop iteration\")\n",
    "            plt.ylabel(\"Cross entropy loss\")\n",
    "            plt.show()\n",
    "\n",
    "            break\n",
    "\n",
    "        loss.backward()\n",
    "\n",
    "    optimizer_teacher.step()"
   ]
  },
  {
   "cell_type": "markdown",
   "metadata": {
    "id": "gv3nimqmdWBH"
   },
   "source": [
    "## Simple MNIST NAS\n",
    "\n",
    "The key idea of this paper is that performance of larger networks on teacher-generated data is a good proxy for performance on real data, allowing you to search over many more architectures with limited compute. In fact, Such et al. state,\n",
    "\n",
    "> We found that to achieve the same predictive power (rank correlation) as achieved with only 128 SGD steps on GTN-generated data, you would instead need 1200 SGD steps on real data.\n",
    "\n",
    "With enough compute, you could train the teacher on large networks sampled from a NAS space, gradually increasing the number of inner loop updates and architectures per outer loop update. This would provide an end-to-end NAS model. However, Such et al. found that this is prohibitively expensive. Thus, the teacher is only trained on small networks with the hope that it'll generalize well to larger, more powerful networks.\n",
    "\n",
    "Now let's implement a simple neural architecture search (NAS) with your GTN. In this search, you'll optimize the number of convolutional filters for the two-layer student network you trained your teacher on earlier."
   ]
  },
  {
   "cell_type": "code",
   "execution_count": null,
   "metadata": {
    "id": "e4GVZ45MdRfV"
   },
   "outputs": [],
   "source": [
    "num_architectures = 10\n",
    "\n",
    "best_accuracy = 0\n",
    "\n",
    "for i in range(num_architectures):\n",
    "\n",
    "    # Randomly sample architecture\n",
    "    conv1_filters = np.random.randint(1, 64)\n",
    "    conv2_filters = np.random.randint(1, 128)\n",
    "\n",
    "    learner = Learner(conv1_filters, conv2_filters)\n",
    "    inner_optim = optim.SGD(learner.parameters(), lr=learner_lr.item(), momentum=learner_momentum.item())\n",
    "    learner.train()\n",
    "\n",
    "    # For some reason if we don't use higher here, accuracy drops significantly\n",
    "    with higher.innerloop_ctx(learner, inner_optim, override={'lr': [learner_lr], 'momentum': [learner_momentum]}) as (flearner, diffopt):\n",
    "        for step in range(inner_loop_iterations):\n",
    "\n",
    "            # Data generation\n",
    "            if use_curriculum:\n",
    "                z_vec = curriculum[step]\n",
    "            else:\n",
    "                z_vec = torch.randn(inner_loop_batch_size, noise_size)\n",
    "\n",
    "            one_hot = F.one_hot(label, num_classes)\n",
    "\n",
    "            # Pass input to teacher to generate synthetic images\n",
    "            teacher_output, teacher_target = teacher(z_vec, one_hot)\n",
    "\n",
    "            # Pass teacher output to the learner\n",
    "            learner_output = flearner(teacher_output)\n",
    "            loss = loss_fn(learner_output, label)\n",
    "            diffopt.step(loss)\n",
    "\n",
    "        # Compute accuracy on validation set\n",
    "        correct = 0\n",
    "        for val_idx, (data, target) in enumerate(val_loader, 0):\n",
    "            #if (val_idx == val_iterations): break\n",
    "            output = flearner(data)\n",
    "            pred = output.argmax(dim=1, keepdim=True)\n",
    "            correct += pred.eq(target.view_as(pred)).sum().item()\n",
    "        accuracy = correct / (outer_loop_batch_size * len(val_loader))\n",
    "\n",
    "        if (accuracy > best_accuracy):\n",
    "            best_accuracy = accuracy\n",
    "            filter_counts = (conv1_filters, conv2_filters)\n",
    "\n",
    "        print(\"------------------------- Architecture\", i + 1,\" -------------------------\")\n",
    "        print(\"Num conv1 filters:\", conv1_filters, \", Num conv2 filters:\", conv2_filters, \", Val accuracy:\", accuracy)\n",
    "\n",
    "        \n",
    "        if (i == num_architectures - 1):\n",
    "            correct = 0\n",
    "            for test_idx, (data, target) in enumerate(test_loader, 0):\n",
    "                #if (test_idx == test_iterations): break\n",
    "                output = flearner(data)\n",
    "                pred = output.argmax(dim=1, keepdim=True)\n",
    "                correct += pred.eq(target.view_as(pred)).sum().item()\n",
    "            accuracy = correct / (outer_loop_batch_size * len(test_loader))\n",
    "            print(\"------------------------- Best architecture -------------------------\")\n",
    "            print(\"Num conv1 filters:\", filter_counts[0], \", Num conv2 filters:\", filter_counts[1], \", Test accuracy:\", accuracy)\n",
    "          "
   ]
  },
  {
   "cell_type": "markdown",
   "metadata": {
    "id": "_oUJz8yddg_d"
   },
   "source": [
    "### Visualization \n",
    "\n",
    "The rows in the grid produced are images from equally-spaced inner loop iterations where the first row corresponds to the first inner loop iteration and the last row corresponds to the last. The columns correspond to classes where the first column is filled with 0's and the last colummn is filled with 9's."
   ]
  },
  {
   "cell_type": "code",
   "execution_count": null,
   "metadata": {
    "id": "R9m-oW4SdaN6"
   },
   "outputs": [],
   "source": [
    "imgs_per_row = num_classes\n",
    "rows = inner_loop_iterations // 2 * img_size + inner_loop_iterations // 2 + 1\n",
    "cols = imgs_per_row * img_size + imgs_per_row + 1\n",
    "background = Image.new('L', (cols, rows))\n",
    "\n",
    "for step in range(0, inner_loop_iterations, 2): # indexes row\n",
    "    if use_curriculum:\n",
    "        z_vec = curriculum[step]\n",
    "    else:\n",
    "        z_vec = torch.randn(inner_loop_batch_size, noise_size)\n",
    "\n",
    "    one_hot = F.one_hot(label, num_classes)\n",
    "\n",
    "    teacher_output, teacher_target = teacher(z_vec, one_hot)\n",
    "\n",
    "    for i in range(imgs_per_row): # indexes column \n",
    "        background.paste(generate_img(teacher_output[i]), (i * img_size + i + 1, (step // 2) * img_size + (step // 2) + 1))\n",
    "\n",
    "display(background)"
   ]
  },
  {
   "cell_type": "markdown",
   "metadata": {
    "id": "V2j9dvuLdquc"
   },
   "source": [
    "### Conclusion\n",
    "\n",
    "Now you know how GTN-generated data augmentation can be useful for training classifiers quickly which in turn allows us to more efficiently search for best performing model architectures. You've seen how the whole process can be trained end-to-end, instead of training one model first, then another — you can certainly apply this principle elsewhere as you build your systems, merging different steps of the training process as you let the gradient flow all the way through your system! You've touched on evolving areas of research, such as curriculum learning, meta-learning, and neural architecture search (NAS)"
   ]
  },
  {
   "cell_type": "code",
   "execution_count": 6,
   "metadata": {
    "colab": {
     "base_uri": "https://localhost:8080/",
     "height": 106
    },
    "executionInfo": {
     "elapsed": 3783,
     "status": "ok",
     "timestamp": 1647933101566,
     "user": {
      "displayName": "Shubham Balodi",
      "photoUrl": "https://lh3.googleusercontent.com/a/default-user=s64",
      "userId": "12667125085737334074"
     },
     "user_tz": -330
    },
    "id": "OgMcZjGbdrYB",
    "outputId": "5e2211f5-8625-47a6-d305-135a68f1ef77"
   },
   "outputs": [
    {
     "name": "stdout",
     "output_type": "stream",
     "text": [
      "[jovian] Detected Colab notebook...\u001b[0m\n",
      "[jovian] Uploading colab notebook to Jovian...\u001b[0m\n",
      "Committed successfully! https://jovian.ai/shubhambalodi79/generative-teaching-networks-gtn\n"
     ]
    },
    {
     "data": {
      "application/vnd.google.colaboratory.intrinsic+json": {
       "type": "string"
      },
      "text/plain": [
       "'https://jovian.ai/shubhambalodi79/generative-teaching-networks-gtn'"
      ]
     },
     "execution_count": 6,
     "metadata": {},
     "output_type": "execute_result"
    }
   ],
   "source": [
    "jovian.commit()"
   ]
  },
  {
   "cell_type": "code",
   "execution_count": null,
   "metadata": {
    "id": "mhtYpEyPdwTK"
   },
   "outputs": [],
   "source": []
  }
 ],
 "metadata": {
  "colab": {
   "collapsed_sections": [],
   "name": "generative-teaching-networks-gtn.ipynb",
   "provenance": []
  },
  "language_info": {
   "codemirror_mode": {
    "name": "ipython",
    "version": 3
   },
   "file_extension": ".py",
   "mimetype": "text/x-python",
   "name": "python",
   "nbconvert_exporter": "python",
   "pygments_lexer": "ipython3",
   "version": "3.9.6"
  },
  "widgets": {
   "application/vnd.jupyter.widget-state+json": {
    "015cef05d00744cc8ad3ae6de517e23b": {
     "model_module": "@jupyter-widgets/controls",
     "model_module_version": "1.5.0",
     "model_name": "HTMLModel",
     "state": {
      "_dom_classes": [],
      "_model_module": "@jupyter-widgets/controls",
      "_model_module_version": "1.5.0",
      "_model_name": "HTMLModel",
      "_view_count": null,
      "_view_module": "@jupyter-widgets/controls",
      "_view_module_version": "1.5.0",
      "_view_name": "HTMLView",
      "description": "",
      "description_tooltip": null,
      "layout": "IPY_MODEL_5846f3240d834f7ba174ae30cdd51f76",
      "placeholder": "​",
      "style": "IPY_MODEL_b9f2714c211246f6bbe51e54275de5b9",
      "value": " 29696/? [00:00&lt;00:00, 764440.12it/s]"
     }
    },
    "019ba11ffb544fee82446044cd15635a": {
     "model_module": "@jupyter-widgets/base",
     "model_module_version": "1.2.0",
     "model_name": "LayoutModel",
     "state": {
      "_model_module": "@jupyter-widgets/base",
      "_model_module_version": "1.2.0",
      "_model_name": "LayoutModel",
      "_view_count": null,
      "_view_module": "@jupyter-widgets/base",
      "_view_module_version": "1.2.0",
      "_view_name": "LayoutView",
      "align_content": null,
      "align_items": null,
      "align_self": null,
      "border": null,
      "bottom": null,
      "display": null,
      "flex": null,
      "flex_flow": null,
      "grid_area": null,
      "grid_auto_columns": null,
      "grid_auto_flow": null,
      "grid_auto_rows": null,
      "grid_column": null,
      "grid_gap": null,
      "grid_row": null,
      "grid_template_areas": null,
      "grid_template_columns": null,
      "grid_template_rows": null,
      "height": null,
      "justify_content": null,
      "justify_items": null,
      "left": null,
      "margin": null,
      "max_height": null,
      "max_width": null,
      "min_height": null,
      "min_width": null,
      "object_fit": null,
      "object_position": null,
      "order": null,
      "overflow": null,
      "overflow_x": null,
      "overflow_y": null,
      "padding": null,
      "right": null,
      "top": null,
      "visibility": null,
      "width": null
     }
    },
    "02ee5df810614672a59d06b4f73c330b": {
     "model_module": "@jupyter-widgets/controls",
     "model_module_version": "1.5.0",
     "model_name": "HTMLModel",
     "state": {
      "_dom_classes": [],
      "_model_module": "@jupyter-widgets/controls",
      "_model_module_version": "1.5.0",
      "_model_name": "HTMLModel",
      "_view_count": null,
      "_view_module": "@jupyter-widgets/controls",
      "_view_module_version": "1.5.0",
      "_view_name": "HTMLView",
      "description": "",
      "description_tooltip": null,
      "layout": "IPY_MODEL_7451b6c486e0477fa325c36bb057549a",
      "placeholder": "​",
      "style": "IPY_MODEL_bec6ca93149e49118992a754b9824838",
      "value": ""
     }
    },
    "04138b859d9544d7b527325b6647293e": {
     "model_module": "@jupyter-widgets/base",
     "model_module_version": "1.2.0",
     "model_name": "LayoutModel",
     "state": {
      "_model_module": "@jupyter-widgets/base",
      "_model_module_version": "1.2.0",
      "_model_name": "LayoutModel",
      "_view_count": null,
      "_view_module": "@jupyter-widgets/base",
      "_view_module_version": "1.2.0",
      "_view_name": "LayoutView",
      "align_content": null,
      "align_items": null,
      "align_self": null,
      "border": null,
      "bottom": null,
      "display": null,
      "flex": null,
      "flex_flow": null,
      "grid_area": null,
      "grid_auto_columns": null,
      "grid_auto_flow": null,
      "grid_auto_rows": null,
      "grid_column": null,
      "grid_gap": null,
      "grid_row": null,
      "grid_template_areas": null,
      "grid_template_columns": null,
      "grid_template_rows": null,
      "height": null,
      "justify_content": null,
      "justify_items": null,
      "left": null,
      "margin": null,
      "max_height": null,
      "max_width": null,
      "min_height": null,
      "min_width": null,
      "object_fit": null,
      "object_position": null,
      "order": null,
      "overflow": null,
      "overflow_x": null,
      "overflow_y": null,
      "padding": null,
      "right": null,
      "top": null,
      "visibility": null,
      "width": null
     }
    },
    "086feaa9bd3b4542a7ea6338975b593d": {
     "model_module": "@jupyter-widgets/base",
     "model_module_version": "1.2.0",
     "model_name": "LayoutModel",
     "state": {
      "_model_module": "@jupyter-widgets/base",
      "_model_module_version": "1.2.0",
      "_model_name": "LayoutModel",
      "_view_count": null,
      "_view_module": "@jupyter-widgets/base",
      "_view_module_version": "1.2.0",
      "_view_name": "LayoutView",
      "align_content": null,
      "align_items": null,
      "align_self": null,
      "border": null,
      "bottom": null,
      "display": null,
      "flex": null,
      "flex_flow": null,
      "grid_area": null,
      "grid_auto_columns": null,
      "grid_auto_flow": null,
      "grid_auto_rows": null,
      "grid_column": null,
      "grid_gap": null,
      "grid_row": null,
      "grid_template_areas": null,
      "grid_template_columns": null,
      "grid_template_rows": null,
      "height": null,
      "justify_content": null,
      "justify_items": null,
      "left": null,
      "margin": null,
      "max_height": null,
      "max_width": null,
      "min_height": null,
      "min_width": null,
      "object_fit": null,
      "object_position": null,
      "order": null,
      "overflow": null,
      "overflow_x": null,
      "overflow_y": null,
      "padding": null,
      "right": null,
      "top": null,
      "visibility": null,
      "width": null
     }
    },
    "0c2ed78ca1fd4f5baeee5512e06953b1": {
     "model_module": "@jupyter-widgets/controls",
     "model_module_version": "1.5.0",
     "model_name": "DescriptionStyleModel",
     "state": {
      "_model_module": "@jupyter-widgets/controls",
      "_model_module_version": "1.5.0",
      "_model_name": "DescriptionStyleModel",
      "_view_count": null,
      "_view_module": "@jupyter-widgets/base",
      "_view_module_version": "1.2.0",
      "_view_name": "StyleView",
      "description_width": ""
     }
    },
    "114b1669a09e4a5b9670f8445cdfab6f": {
     "model_module": "@jupyter-widgets/controls",
     "model_module_version": "1.5.0",
     "model_name": "HBoxModel",
     "state": {
      "_dom_classes": [],
      "_model_module": "@jupyter-widgets/controls",
      "_model_module_version": "1.5.0",
      "_model_name": "HBoxModel",
      "_view_count": null,
      "_view_module": "@jupyter-widgets/controls",
      "_view_module_version": "1.5.0",
      "_view_name": "HBoxView",
      "box_style": "",
      "children": [
       "IPY_MODEL_1e7636c36b794eec9912da489101373e",
       "IPY_MODEL_5b04ac582c054ab3adb0971411c7f41f",
       "IPY_MODEL_b150444f76634a45821c64f379961cf8"
      ],
      "layout": "IPY_MODEL_7562a0b658bb42558370464f4a66b501"
     }
    },
    "11a8e2667a184875982af7229666e09a": {
     "model_module": "@jupyter-widgets/base",
     "model_module_version": "1.2.0",
     "model_name": "LayoutModel",
     "state": {
      "_model_module": "@jupyter-widgets/base",
      "_model_module_version": "1.2.0",
      "_model_name": "LayoutModel",
      "_view_count": null,
      "_view_module": "@jupyter-widgets/base",
      "_view_module_version": "1.2.0",
      "_view_name": "LayoutView",
      "align_content": null,
      "align_items": null,
      "align_self": null,
      "border": null,
      "bottom": null,
      "display": null,
      "flex": null,
      "flex_flow": null,
      "grid_area": null,
      "grid_auto_columns": null,
      "grid_auto_flow": null,
      "grid_auto_rows": null,
      "grid_column": null,
      "grid_gap": null,
      "grid_row": null,
      "grid_template_areas": null,
      "grid_template_columns": null,
      "grid_template_rows": null,
      "height": null,
      "justify_content": null,
      "justify_items": null,
      "left": null,
      "margin": null,
      "max_height": null,
      "max_width": null,
      "min_height": null,
      "min_width": null,
      "object_fit": null,
      "object_position": null,
      "order": null,
      "overflow": null,
      "overflow_x": null,
      "overflow_y": null,
      "padding": null,
      "right": null,
      "top": null,
      "visibility": null,
      "width": null
     }
    },
    "185bed6d8e404865828ce12908516194": {
     "model_module": "@jupyter-widgets/base",
     "model_module_version": "1.2.0",
     "model_name": "LayoutModel",
     "state": {
      "_model_module": "@jupyter-widgets/base",
      "_model_module_version": "1.2.0",
      "_model_name": "LayoutModel",
      "_view_count": null,
      "_view_module": "@jupyter-widgets/base",
      "_view_module_version": "1.2.0",
      "_view_name": "LayoutView",
      "align_content": null,
      "align_items": null,
      "align_self": null,
      "border": null,
      "bottom": null,
      "display": null,
      "flex": null,
      "flex_flow": null,
      "grid_area": null,
      "grid_auto_columns": null,
      "grid_auto_flow": null,
      "grid_auto_rows": null,
      "grid_column": null,
      "grid_gap": null,
      "grid_row": null,
      "grid_template_areas": null,
      "grid_template_columns": null,
      "grid_template_rows": null,
      "height": null,
      "justify_content": null,
      "justify_items": null,
      "left": null,
      "margin": null,
      "max_height": null,
      "max_width": null,
      "min_height": null,
      "min_width": null,
      "object_fit": null,
      "object_position": null,
      "order": null,
      "overflow": null,
      "overflow_x": null,
      "overflow_y": null,
      "padding": null,
      "right": null,
      "top": null,
      "visibility": null,
      "width": null
     }
    },
    "1c2b4240a46048d0be10a1df370e9c0b": {
     "model_module": "@jupyter-widgets/controls",
     "model_module_version": "1.5.0",
     "model_name": "ProgressStyleModel",
     "state": {
      "_model_module": "@jupyter-widgets/controls",
      "_model_module_version": "1.5.0",
      "_model_name": "ProgressStyleModel",
      "_view_count": null,
      "_view_module": "@jupyter-widgets/base",
      "_view_module_version": "1.2.0",
      "_view_name": "StyleView",
      "bar_color": null,
      "description_width": ""
     }
    },
    "1e7636c36b794eec9912da489101373e": {
     "model_module": "@jupyter-widgets/controls",
     "model_module_version": "1.5.0",
     "model_name": "HTMLModel",
     "state": {
      "_dom_classes": [],
      "_model_module": "@jupyter-widgets/controls",
      "_model_module_version": "1.5.0",
      "_model_name": "HTMLModel",
      "_view_count": null,
      "_view_module": "@jupyter-widgets/controls",
      "_view_module_version": "1.5.0",
      "_view_name": "HTMLView",
      "description": "",
      "description_tooltip": null,
      "layout": "IPY_MODEL_185bed6d8e404865828ce12908516194",
      "placeholder": "​",
      "style": "IPY_MODEL_88f7760314404b6a9c81a81266d90e7f",
      "value": ""
     }
    },
    "1fe3910cbe3d47c0a3c83fefd24d7a5b": {
     "model_module": "@jupyter-widgets/controls",
     "model_module_version": "1.5.0",
     "model_name": "DescriptionStyleModel",
     "state": {
      "_model_module": "@jupyter-widgets/controls",
      "_model_module_version": "1.5.0",
      "_model_name": "DescriptionStyleModel",
      "_view_count": null,
      "_view_module": "@jupyter-widgets/base",
      "_view_module_version": "1.2.0",
      "_view_name": "StyleView",
      "description_width": ""
     }
    },
    "32973bff61ea4485bc1b6c7a29cb76c2": {
     "model_module": "@jupyter-widgets/controls",
     "model_module_version": "1.5.0",
     "model_name": "HTMLModel",
     "state": {
      "_dom_classes": [],
      "_model_module": "@jupyter-widgets/controls",
      "_model_module_version": "1.5.0",
      "_model_name": "HTMLModel",
      "_view_count": null,
      "_view_module": "@jupyter-widgets/controls",
      "_view_module_version": "1.5.0",
      "_view_name": "HTMLView",
      "description": "",
      "description_tooltip": null,
      "layout": "IPY_MODEL_df2259dec1024b01a72a857fd49fcf20",
      "placeholder": "​",
      "style": "IPY_MODEL_5876067566874f59b021e5e69db6eaa8",
      "value": " 5120/? [00:00&lt;00:00, 156467.39it/s]"
     }
    },
    "3afb5a8465e145b2ab0c4a28307fe54d": {
     "model_module": "@jupyter-widgets/controls",
     "model_module_version": "1.5.0",
     "model_name": "HTMLModel",
     "state": {
      "_dom_classes": [],
      "_model_module": "@jupyter-widgets/controls",
      "_model_module_version": "1.5.0",
      "_model_name": "HTMLModel",
      "_view_count": null,
      "_view_module": "@jupyter-widgets/controls",
      "_view_module_version": "1.5.0",
      "_view_name": "HTMLView",
      "description": "",
      "description_tooltip": null,
      "layout": "IPY_MODEL_aa1c1f6528844153b45fb5a3f22a097a",
      "placeholder": "​",
      "style": "IPY_MODEL_566aea0b46764db188604a4298f782a4",
      "value": ""
     }
    },
    "3b93dc7db60d415895b6f90cf086b2a7": {
     "model_module": "@jupyter-widgets/controls",
     "model_module_version": "1.5.0",
     "model_name": "HBoxModel",
     "state": {
      "_dom_classes": [],
      "_model_module": "@jupyter-widgets/controls",
      "_model_module_version": "1.5.0",
      "_model_name": "HBoxModel",
      "_view_count": null,
      "_view_module": "@jupyter-widgets/controls",
      "_view_module_version": "1.5.0",
      "_view_name": "HBoxView",
      "box_style": "",
      "children": [
       "IPY_MODEL_3afb5a8465e145b2ab0c4a28307fe54d",
       "IPY_MODEL_74164c0a1d654418b31d6b68cd1fcb8a",
       "IPY_MODEL_32973bff61ea4485bc1b6c7a29cb76c2"
      ],
      "layout": "IPY_MODEL_04138b859d9544d7b527325b6647293e"
     }
    },
    "3e886666f86b45679182d3317c7c0f0c": {
     "model_module": "@jupyter-widgets/controls",
     "model_module_version": "1.5.0",
     "model_name": "ProgressStyleModel",
     "state": {
      "_model_module": "@jupyter-widgets/controls",
      "_model_module_version": "1.5.0",
      "_model_name": "ProgressStyleModel",
      "_view_count": null,
      "_view_module": "@jupyter-widgets/base",
      "_view_module_version": "1.2.0",
      "_view_name": "StyleView",
      "bar_color": null,
      "description_width": ""
     }
    },
    "4372b2abd6cb449e823673be32c93aa6": {
     "model_module": "@jupyter-widgets/controls",
     "model_module_version": "1.5.0",
     "model_name": "FloatProgressModel",
     "state": {
      "_dom_classes": [],
      "_model_module": "@jupyter-widgets/controls",
      "_model_module_version": "1.5.0",
      "_model_name": "FloatProgressModel",
      "_view_count": null,
      "_view_module": "@jupyter-widgets/controls",
      "_view_module_version": "1.5.0",
      "_view_name": "ProgressView",
      "bar_style": "success",
      "description": "",
      "description_tooltip": null,
      "layout": "IPY_MODEL_019ba11ffb544fee82446044cd15635a",
      "max": 28881,
      "min": 0,
      "orientation": "horizontal",
      "style": "IPY_MODEL_1c2b4240a46048d0be10a1df370e9c0b",
      "value": 28881
     }
    },
    "4c23702bb18749329003fca426fd0035": {
     "model_module": "@jupyter-widgets/controls",
     "model_module_version": "1.5.0",
     "model_name": "HBoxModel",
     "state": {
      "_dom_classes": [],
      "_model_module": "@jupyter-widgets/controls",
      "_model_module_version": "1.5.0",
      "_model_name": "HBoxModel",
      "_view_count": null,
      "_view_module": "@jupyter-widgets/controls",
      "_view_module_version": "1.5.0",
      "_view_name": "HBoxView",
      "box_style": "",
      "children": [
       "IPY_MODEL_4f26b93b59be4334a21b5b4e43d07aa2",
       "IPY_MODEL_d171891e1dc143fe9fa177f487252a50",
       "IPY_MODEL_eeb5209971bf40bc93df9e7b0d13638c"
      ],
      "layout": "IPY_MODEL_99819245c9ac48f0994ce344a5a20f76"
     }
    },
    "4f26b93b59be4334a21b5b4e43d07aa2": {
     "model_module": "@jupyter-widgets/controls",
     "model_module_version": "1.5.0",
     "model_name": "HTMLModel",
     "state": {
      "_dom_classes": [],
      "_model_module": "@jupyter-widgets/controls",
      "_model_module_version": "1.5.0",
      "_model_name": "HTMLModel",
      "_view_count": null,
      "_view_module": "@jupyter-widgets/controls",
      "_view_module_version": "1.5.0",
      "_view_name": "HTMLView",
      "description": "",
      "description_tooltip": null,
      "layout": "IPY_MODEL_65bbabae20bf43cf8c1707077ada2359",
      "placeholder": "​",
      "style": "IPY_MODEL_e5633f6228514f4080c271c04f5d9f21",
      "value": ""
     }
    },
    "52be8b0b4e1d4bbba2f19146f31d1c36": {
     "model_module": "@jupyter-widgets/controls",
     "model_module_version": "1.5.0",
     "model_name": "ProgressStyleModel",
     "state": {
      "_model_module": "@jupyter-widgets/controls",
      "_model_module_version": "1.5.0",
      "_model_name": "ProgressStyleModel",
      "_view_count": null,
      "_view_module": "@jupyter-widgets/base",
      "_view_module_version": "1.2.0",
      "_view_name": "StyleView",
      "bar_color": null,
      "description_width": ""
     }
    },
    "566aea0b46764db188604a4298f782a4": {
     "model_module": "@jupyter-widgets/controls",
     "model_module_version": "1.5.0",
     "model_name": "DescriptionStyleModel",
     "state": {
      "_model_module": "@jupyter-widgets/controls",
      "_model_module_version": "1.5.0",
      "_model_name": "DescriptionStyleModel",
      "_view_count": null,
      "_view_module": "@jupyter-widgets/base",
      "_view_module_version": "1.2.0",
      "_view_name": "StyleView",
      "description_width": ""
     }
    },
    "5846f3240d834f7ba174ae30cdd51f76": {
     "model_module": "@jupyter-widgets/base",
     "model_module_version": "1.2.0",
     "model_name": "LayoutModel",
     "state": {
      "_model_module": "@jupyter-widgets/base",
      "_model_module_version": "1.2.0",
      "_model_name": "LayoutModel",
      "_view_count": null,
      "_view_module": "@jupyter-widgets/base",
      "_view_module_version": "1.2.0",
      "_view_name": "LayoutView",
      "align_content": null,
      "align_items": null,
      "align_self": null,
      "border": null,
      "bottom": null,
      "display": null,
      "flex": null,
      "flex_flow": null,
      "grid_area": null,
      "grid_auto_columns": null,
      "grid_auto_flow": null,
      "grid_auto_rows": null,
      "grid_column": null,
      "grid_gap": null,
      "grid_row": null,
      "grid_template_areas": null,
      "grid_template_columns": null,
      "grid_template_rows": null,
      "height": null,
      "justify_content": null,
      "justify_items": null,
      "left": null,
      "margin": null,
      "max_height": null,
      "max_width": null,
      "min_height": null,
      "min_width": null,
      "object_fit": null,
      "object_position": null,
      "order": null,
      "overflow": null,
      "overflow_x": null,
      "overflow_y": null,
      "padding": null,
      "right": null,
      "top": null,
      "visibility": null,
      "width": null
     }
    },
    "5876067566874f59b021e5e69db6eaa8": {
     "model_module": "@jupyter-widgets/controls",
     "model_module_version": "1.5.0",
     "model_name": "DescriptionStyleModel",
     "state": {
      "_model_module": "@jupyter-widgets/controls",
      "_model_module_version": "1.5.0",
      "_model_name": "DescriptionStyleModel",
      "_view_count": null,
      "_view_module": "@jupyter-widgets/base",
      "_view_module_version": "1.2.0",
      "_view_name": "StyleView",
      "description_width": ""
     }
    },
    "58daa181472e438090c54efe8e218310": {
     "model_module": "@jupyter-widgets/base",
     "model_module_version": "1.2.0",
     "model_name": "LayoutModel",
     "state": {
      "_model_module": "@jupyter-widgets/base",
      "_model_module_version": "1.2.0",
      "_model_name": "LayoutModel",
      "_view_count": null,
      "_view_module": "@jupyter-widgets/base",
      "_view_module_version": "1.2.0",
      "_view_name": "LayoutView",
      "align_content": null,
      "align_items": null,
      "align_self": null,
      "border": null,
      "bottom": null,
      "display": null,
      "flex": null,
      "flex_flow": null,
      "grid_area": null,
      "grid_auto_columns": null,
      "grid_auto_flow": null,
      "grid_auto_rows": null,
      "grid_column": null,
      "grid_gap": null,
      "grid_row": null,
      "grid_template_areas": null,
      "grid_template_columns": null,
      "grid_template_rows": null,
      "height": null,
      "justify_content": null,
      "justify_items": null,
      "left": null,
      "margin": null,
      "max_height": null,
      "max_width": null,
      "min_height": null,
      "min_width": null,
      "object_fit": null,
      "object_position": null,
      "order": null,
      "overflow": null,
      "overflow_x": null,
      "overflow_y": null,
      "padding": null,
      "right": null,
      "top": null,
      "visibility": null,
      "width": null
     }
    },
    "5b04ac582c054ab3adb0971411c7f41f": {
     "model_module": "@jupyter-widgets/controls",
     "model_module_version": "1.5.0",
     "model_name": "FloatProgressModel",
     "state": {
      "_dom_classes": [],
      "_model_module": "@jupyter-widgets/controls",
      "_model_module_version": "1.5.0",
      "_model_name": "FloatProgressModel",
      "_view_count": null,
      "_view_module": "@jupyter-widgets/controls",
      "_view_module_version": "1.5.0",
      "_view_name": "ProgressView",
      "bar_style": "success",
      "description": "",
      "description_tooltip": null,
      "layout": "IPY_MODEL_a1a4ea6695b741248c3375e3dbd52d32",
      "max": 9912422,
      "min": 0,
      "orientation": "horizontal",
      "style": "IPY_MODEL_52be8b0b4e1d4bbba2f19146f31d1c36",
      "value": 9912422
     }
    },
    "65bbabae20bf43cf8c1707077ada2359": {
     "model_module": "@jupyter-widgets/base",
     "model_module_version": "1.2.0",
     "model_name": "LayoutModel",
     "state": {
      "_model_module": "@jupyter-widgets/base",
      "_model_module_version": "1.2.0",
      "_model_name": "LayoutModel",
      "_view_count": null,
      "_view_module": "@jupyter-widgets/base",
      "_view_module_version": "1.2.0",
      "_view_name": "LayoutView",
      "align_content": null,
      "align_items": null,
      "align_self": null,
      "border": null,
      "bottom": null,
      "display": null,
      "flex": null,
      "flex_flow": null,
      "grid_area": null,
      "grid_auto_columns": null,
      "grid_auto_flow": null,
      "grid_auto_rows": null,
      "grid_column": null,
      "grid_gap": null,
      "grid_row": null,
      "grid_template_areas": null,
      "grid_template_columns": null,
      "grid_template_rows": null,
      "height": null,
      "justify_content": null,
      "justify_items": null,
      "left": null,
      "margin": null,
      "max_height": null,
      "max_width": null,
      "min_height": null,
      "min_width": null,
      "object_fit": null,
      "object_position": null,
      "order": null,
      "overflow": null,
      "overflow_x": null,
      "overflow_y": null,
      "padding": null,
      "right": null,
      "top": null,
      "visibility": null,
      "width": null
     }
    },
    "74164c0a1d654418b31d6b68cd1fcb8a": {
     "model_module": "@jupyter-widgets/controls",
     "model_module_version": "1.5.0",
     "model_name": "FloatProgressModel",
     "state": {
      "_dom_classes": [],
      "_model_module": "@jupyter-widgets/controls",
      "_model_module_version": "1.5.0",
      "_model_name": "FloatProgressModel",
      "_view_count": null,
      "_view_module": "@jupyter-widgets/controls",
      "_view_module_version": "1.5.0",
      "_view_name": "ProgressView",
      "bar_style": "success",
      "description": "",
      "description_tooltip": null,
      "layout": "IPY_MODEL_11a8e2667a184875982af7229666e09a",
      "max": 4542,
      "min": 0,
      "orientation": "horizontal",
      "style": "IPY_MODEL_3e886666f86b45679182d3317c7c0f0c",
      "value": 4542
     }
    },
    "7451b6c486e0477fa325c36bb057549a": {
     "model_module": "@jupyter-widgets/base",
     "model_module_version": "1.2.0",
     "model_name": "LayoutModel",
     "state": {
      "_model_module": "@jupyter-widgets/base",
      "_model_module_version": "1.2.0",
      "_model_name": "LayoutModel",
      "_view_count": null,
      "_view_module": "@jupyter-widgets/base",
      "_view_module_version": "1.2.0",
      "_view_name": "LayoutView",
      "align_content": null,
      "align_items": null,
      "align_self": null,
      "border": null,
      "bottom": null,
      "display": null,
      "flex": null,
      "flex_flow": null,
      "grid_area": null,
      "grid_auto_columns": null,
      "grid_auto_flow": null,
      "grid_auto_rows": null,
      "grid_column": null,
      "grid_gap": null,
      "grid_row": null,
      "grid_template_areas": null,
      "grid_template_columns": null,
      "grid_template_rows": null,
      "height": null,
      "justify_content": null,
      "justify_items": null,
      "left": null,
      "margin": null,
      "max_height": null,
      "max_width": null,
      "min_height": null,
      "min_width": null,
      "object_fit": null,
      "object_position": null,
      "order": null,
      "overflow": null,
      "overflow_x": null,
      "overflow_y": null,
      "padding": null,
      "right": null,
      "top": null,
      "visibility": null,
      "width": null
     }
    },
    "7562a0b658bb42558370464f4a66b501": {
     "model_module": "@jupyter-widgets/base",
     "model_module_version": "1.2.0",
     "model_name": "LayoutModel",
     "state": {
      "_model_module": "@jupyter-widgets/base",
      "_model_module_version": "1.2.0",
      "_model_name": "LayoutModel",
      "_view_count": null,
      "_view_module": "@jupyter-widgets/base",
      "_view_module_version": "1.2.0",
      "_view_name": "LayoutView",
      "align_content": null,
      "align_items": null,
      "align_self": null,
      "border": null,
      "bottom": null,
      "display": null,
      "flex": null,
      "flex_flow": null,
      "grid_area": null,
      "grid_auto_columns": null,
      "grid_auto_flow": null,
      "grid_auto_rows": null,
      "grid_column": null,
      "grid_gap": null,
      "grid_row": null,
      "grid_template_areas": null,
      "grid_template_columns": null,
      "grid_template_rows": null,
      "height": null,
      "justify_content": null,
      "justify_items": null,
      "left": null,
      "margin": null,
      "max_height": null,
      "max_width": null,
      "min_height": null,
      "min_width": null,
      "object_fit": null,
      "object_position": null,
      "order": null,
      "overflow": null,
      "overflow_x": null,
      "overflow_y": null,
      "padding": null,
      "right": null,
      "top": null,
      "visibility": null,
      "width": null
     }
    },
    "76efe2f3f5ad4c78bc67a4f531b85186": {
     "model_module": "@jupyter-widgets/base",
     "model_module_version": "1.2.0",
     "model_name": "LayoutModel",
     "state": {
      "_model_module": "@jupyter-widgets/base",
      "_model_module_version": "1.2.0",
      "_model_name": "LayoutModel",
      "_view_count": null,
      "_view_module": "@jupyter-widgets/base",
      "_view_module_version": "1.2.0",
      "_view_name": "LayoutView",
      "align_content": null,
      "align_items": null,
      "align_self": null,
      "border": null,
      "bottom": null,
      "display": null,
      "flex": null,
      "flex_flow": null,
      "grid_area": null,
      "grid_auto_columns": null,
      "grid_auto_flow": null,
      "grid_auto_rows": null,
      "grid_column": null,
      "grid_gap": null,
      "grid_row": null,
      "grid_template_areas": null,
      "grid_template_columns": null,
      "grid_template_rows": null,
      "height": null,
      "justify_content": null,
      "justify_items": null,
      "left": null,
      "margin": null,
      "max_height": null,
      "max_width": null,
      "min_height": null,
      "min_width": null,
      "object_fit": null,
      "object_position": null,
      "order": null,
      "overflow": null,
      "overflow_x": null,
      "overflow_y": null,
      "padding": null,
      "right": null,
      "top": null,
      "visibility": null,
      "width": null
     }
    },
    "88f7760314404b6a9c81a81266d90e7f": {
     "model_module": "@jupyter-widgets/controls",
     "model_module_version": "1.5.0",
     "model_name": "DescriptionStyleModel",
     "state": {
      "_model_module": "@jupyter-widgets/controls",
      "_model_module_version": "1.5.0",
      "_model_name": "DescriptionStyleModel",
      "_view_count": null,
      "_view_module": "@jupyter-widgets/base",
      "_view_module_version": "1.2.0",
      "_view_name": "StyleView",
      "description_width": ""
     }
    },
    "99819245c9ac48f0994ce344a5a20f76": {
     "model_module": "@jupyter-widgets/base",
     "model_module_version": "1.2.0",
     "model_name": "LayoutModel",
     "state": {
      "_model_module": "@jupyter-widgets/base",
      "_model_module_version": "1.2.0",
      "_model_name": "LayoutModel",
      "_view_count": null,
      "_view_module": "@jupyter-widgets/base",
      "_view_module_version": "1.2.0",
      "_view_name": "LayoutView",
      "align_content": null,
      "align_items": null,
      "align_self": null,
      "border": null,
      "bottom": null,
      "display": null,
      "flex": null,
      "flex_flow": null,
      "grid_area": null,
      "grid_auto_columns": null,
      "grid_auto_flow": null,
      "grid_auto_rows": null,
      "grid_column": null,
      "grid_gap": null,
      "grid_row": null,
      "grid_template_areas": null,
      "grid_template_columns": null,
      "grid_template_rows": null,
      "height": null,
      "justify_content": null,
      "justify_items": null,
      "left": null,
      "margin": null,
      "max_height": null,
      "max_width": null,
      "min_height": null,
      "min_width": null,
      "object_fit": null,
      "object_position": null,
      "order": null,
      "overflow": null,
      "overflow_x": null,
      "overflow_y": null,
      "padding": null,
      "right": null,
      "top": null,
      "visibility": null,
      "width": null
     }
    },
    "a1a4ea6695b741248c3375e3dbd52d32": {
     "model_module": "@jupyter-widgets/base",
     "model_module_version": "1.2.0",
     "model_name": "LayoutModel",
     "state": {
      "_model_module": "@jupyter-widgets/base",
      "_model_module_version": "1.2.0",
      "_model_name": "LayoutModel",
      "_view_count": null,
      "_view_module": "@jupyter-widgets/base",
      "_view_module_version": "1.2.0",
      "_view_name": "LayoutView",
      "align_content": null,
      "align_items": null,
      "align_self": null,
      "border": null,
      "bottom": null,
      "display": null,
      "flex": null,
      "flex_flow": null,
      "grid_area": null,
      "grid_auto_columns": null,
      "grid_auto_flow": null,
      "grid_auto_rows": null,
      "grid_column": null,
      "grid_gap": null,
      "grid_row": null,
      "grid_template_areas": null,
      "grid_template_columns": null,
      "grid_template_rows": null,
      "height": null,
      "justify_content": null,
      "justify_items": null,
      "left": null,
      "margin": null,
      "max_height": null,
      "max_width": null,
      "min_height": null,
      "min_width": null,
      "object_fit": null,
      "object_position": null,
      "order": null,
      "overflow": null,
      "overflow_x": null,
      "overflow_y": null,
      "padding": null,
      "right": null,
      "top": null,
      "visibility": null,
      "width": null
     }
    },
    "a96c9a9cbc2643ea911387b458adfb5e": {
     "model_module": "@jupyter-widgets/controls",
     "model_module_version": "1.5.0",
     "model_name": "HBoxModel",
     "state": {
      "_dom_classes": [],
      "_model_module": "@jupyter-widgets/controls",
      "_model_module_version": "1.5.0",
      "_model_name": "HBoxModel",
      "_view_count": null,
      "_view_module": "@jupyter-widgets/controls",
      "_view_module_version": "1.5.0",
      "_view_name": "HBoxView",
      "box_style": "",
      "children": [
       "IPY_MODEL_02ee5df810614672a59d06b4f73c330b",
       "IPY_MODEL_4372b2abd6cb449e823673be32c93aa6",
       "IPY_MODEL_015cef05d00744cc8ad3ae6de517e23b"
      ],
      "layout": "IPY_MODEL_c8522c851842427f876d882e7bc6a5cb"
     }
    },
    "aa1c1f6528844153b45fb5a3f22a097a": {
     "model_module": "@jupyter-widgets/base",
     "model_module_version": "1.2.0",
     "model_name": "LayoutModel",
     "state": {
      "_model_module": "@jupyter-widgets/base",
      "_model_module_version": "1.2.0",
      "_model_name": "LayoutModel",
      "_view_count": null,
      "_view_module": "@jupyter-widgets/base",
      "_view_module_version": "1.2.0",
      "_view_name": "LayoutView",
      "align_content": null,
      "align_items": null,
      "align_self": null,
      "border": null,
      "bottom": null,
      "display": null,
      "flex": null,
      "flex_flow": null,
      "grid_area": null,
      "grid_auto_columns": null,
      "grid_auto_flow": null,
      "grid_auto_rows": null,
      "grid_column": null,
      "grid_gap": null,
      "grid_row": null,
      "grid_template_areas": null,
      "grid_template_columns": null,
      "grid_template_rows": null,
      "height": null,
      "justify_content": null,
      "justify_items": null,
      "left": null,
      "margin": null,
      "max_height": null,
      "max_width": null,
      "min_height": null,
      "min_width": null,
      "object_fit": null,
      "object_position": null,
      "order": null,
      "overflow": null,
      "overflow_x": null,
      "overflow_y": null,
      "padding": null,
      "right": null,
      "top": null,
      "visibility": null,
      "width": null
     }
    },
    "b150444f76634a45821c64f379961cf8": {
     "model_module": "@jupyter-widgets/controls",
     "model_module_version": "1.5.0",
     "model_name": "HTMLModel",
     "state": {
      "_dom_classes": [],
      "_model_module": "@jupyter-widgets/controls",
      "_model_module_version": "1.5.0",
      "_model_name": "HTMLModel",
      "_view_count": null,
      "_view_module": "@jupyter-widgets/controls",
      "_view_module_version": "1.5.0",
      "_view_name": "HTMLView",
      "description": "",
      "description_tooltip": null,
      "layout": "IPY_MODEL_58daa181472e438090c54efe8e218310",
      "placeholder": "​",
      "style": "IPY_MODEL_1fe3910cbe3d47c0a3c83fefd24d7a5b",
      "value": " 9913344/? [00:00&lt;00:00, 38150092.36it/s]"
     }
    },
    "b9f2714c211246f6bbe51e54275de5b9": {
     "model_module": "@jupyter-widgets/controls",
     "model_module_version": "1.5.0",
     "model_name": "DescriptionStyleModel",
     "state": {
      "_model_module": "@jupyter-widgets/controls",
      "_model_module_version": "1.5.0",
      "_model_name": "DescriptionStyleModel",
      "_view_count": null,
      "_view_module": "@jupyter-widgets/base",
      "_view_module_version": "1.2.0",
      "_view_name": "StyleView",
      "description_width": ""
     }
    },
    "bec6ca93149e49118992a754b9824838": {
     "model_module": "@jupyter-widgets/controls",
     "model_module_version": "1.5.0",
     "model_name": "DescriptionStyleModel",
     "state": {
      "_model_module": "@jupyter-widgets/controls",
      "_model_module_version": "1.5.0",
      "_model_name": "DescriptionStyleModel",
      "_view_count": null,
      "_view_module": "@jupyter-widgets/base",
      "_view_module_version": "1.2.0",
      "_view_name": "StyleView",
      "description_width": ""
     }
    },
    "c8522c851842427f876d882e7bc6a5cb": {
     "model_module": "@jupyter-widgets/base",
     "model_module_version": "1.2.0",
     "model_name": "LayoutModel",
     "state": {
      "_model_module": "@jupyter-widgets/base",
      "_model_module_version": "1.2.0",
      "_model_name": "LayoutModel",
      "_view_count": null,
      "_view_module": "@jupyter-widgets/base",
      "_view_module_version": "1.2.0",
      "_view_name": "LayoutView",
      "align_content": null,
      "align_items": null,
      "align_self": null,
      "border": null,
      "bottom": null,
      "display": null,
      "flex": null,
      "flex_flow": null,
      "grid_area": null,
      "grid_auto_columns": null,
      "grid_auto_flow": null,
      "grid_auto_rows": null,
      "grid_column": null,
      "grid_gap": null,
      "grid_row": null,
      "grid_template_areas": null,
      "grid_template_columns": null,
      "grid_template_rows": null,
      "height": null,
      "justify_content": null,
      "justify_items": null,
      "left": null,
      "margin": null,
      "max_height": null,
      "max_width": null,
      "min_height": null,
      "min_width": null,
      "object_fit": null,
      "object_position": null,
      "order": null,
      "overflow": null,
      "overflow_x": null,
      "overflow_y": null,
      "padding": null,
      "right": null,
      "top": null,
      "visibility": null,
      "width": null
     }
    },
    "d171891e1dc143fe9fa177f487252a50": {
     "model_module": "@jupyter-widgets/controls",
     "model_module_version": "1.5.0",
     "model_name": "FloatProgressModel",
     "state": {
      "_dom_classes": [],
      "_model_module": "@jupyter-widgets/controls",
      "_model_module_version": "1.5.0",
      "_model_name": "FloatProgressModel",
      "_view_count": null,
      "_view_module": "@jupyter-widgets/controls",
      "_view_module_version": "1.5.0",
      "_view_name": "ProgressView",
      "bar_style": "success",
      "description": "",
      "description_tooltip": null,
      "layout": "IPY_MODEL_086feaa9bd3b4542a7ea6338975b593d",
      "max": 1648877,
      "min": 0,
      "orientation": "horizontal",
      "style": "IPY_MODEL_ea9f77b3c44f44539b8f9627bdc1b52a",
      "value": 1648877
     }
    },
    "df2259dec1024b01a72a857fd49fcf20": {
     "model_module": "@jupyter-widgets/base",
     "model_module_version": "1.2.0",
     "model_name": "LayoutModel",
     "state": {
      "_model_module": "@jupyter-widgets/base",
      "_model_module_version": "1.2.0",
      "_model_name": "LayoutModel",
      "_view_count": null,
      "_view_module": "@jupyter-widgets/base",
      "_view_module_version": "1.2.0",
      "_view_name": "LayoutView",
      "align_content": null,
      "align_items": null,
      "align_self": null,
      "border": null,
      "bottom": null,
      "display": null,
      "flex": null,
      "flex_flow": null,
      "grid_area": null,
      "grid_auto_columns": null,
      "grid_auto_flow": null,
      "grid_auto_rows": null,
      "grid_column": null,
      "grid_gap": null,
      "grid_row": null,
      "grid_template_areas": null,
      "grid_template_columns": null,
      "grid_template_rows": null,
      "height": null,
      "justify_content": null,
      "justify_items": null,
      "left": null,
      "margin": null,
      "max_height": null,
      "max_width": null,
      "min_height": null,
      "min_width": null,
      "object_fit": null,
      "object_position": null,
      "order": null,
      "overflow": null,
      "overflow_x": null,
      "overflow_y": null,
      "padding": null,
      "right": null,
      "top": null,
      "visibility": null,
      "width": null
     }
    },
    "e5633f6228514f4080c271c04f5d9f21": {
     "model_module": "@jupyter-widgets/controls",
     "model_module_version": "1.5.0",
     "model_name": "DescriptionStyleModel",
     "state": {
      "_model_module": "@jupyter-widgets/controls",
      "_model_module_version": "1.5.0",
      "_model_name": "DescriptionStyleModel",
      "_view_count": null,
      "_view_module": "@jupyter-widgets/base",
      "_view_module_version": "1.2.0",
      "_view_name": "StyleView",
      "description_width": ""
     }
    },
    "ea9f77b3c44f44539b8f9627bdc1b52a": {
     "model_module": "@jupyter-widgets/controls",
     "model_module_version": "1.5.0",
     "model_name": "ProgressStyleModel",
     "state": {
      "_model_module": "@jupyter-widgets/controls",
      "_model_module_version": "1.5.0",
      "_model_name": "ProgressStyleModel",
      "_view_count": null,
      "_view_module": "@jupyter-widgets/base",
      "_view_module_version": "1.2.0",
      "_view_name": "StyleView",
      "bar_color": null,
      "description_width": ""
     }
    },
    "eeb5209971bf40bc93df9e7b0d13638c": {
     "model_module": "@jupyter-widgets/controls",
     "model_module_version": "1.5.0",
     "model_name": "HTMLModel",
     "state": {
      "_dom_classes": [],
      "_model_module": "@jupyter-widgets/controls",
      "_model_module_version": "1.5.0",
      "_model_name": "HTMLModel",
      "_view_count": null,
      "_view_module": "@jupyter-widgets/controls",
      "_view_module_version": "1.5.0",
      "_view_name": "HTMLView",
      "description": "",
      "description_tooltip": null,
      "layout": "IPY_MODEL_76efe2f3f5ad4c78bc67a4f531b85186",
      "placeholder": "​",
      "style": "IPY_MODEL_0c2ed78ca1fd4f5baeee5512e06953b1",
      "value": " 1649664/? [00:00&lt;00:00, 23888361.74it/s]"
     }
    }
   }
  }
 },
 "nbformat": 4,
 "nbformat_minor": 0
}