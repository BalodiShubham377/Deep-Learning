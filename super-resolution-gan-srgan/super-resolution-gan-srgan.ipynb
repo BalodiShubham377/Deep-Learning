{
 "cells": [
  {
   "cell_type": "markdown",
   "metadata": {
    "id": "UApt6VFkr8F9"
   },
   "source": [
    "# super-resolution-gan-srgan\n",
    "\n",
    "Use the \"Run\" button to execute the code."
   ]
  },
  {
   "cell_type": "code",
   "execution_count": null,
   "metadata": {
    "id": "dhi3UzPEr8GB"
   },
   "outputs": [],
   "source": [
    "!pip install jovian --upgrade --quiet"
   ]
  },
  {
   "cell_type": "code",
   "execution_count": null,
   "metadata": {
    "id": "Q47dRtKyr8GC"
   },
   "outputs": [],
   "source": [
    "import jovian"
   ]
  },
  {
   "cell_type": "code",
   "execution_count": null,
   "metadata": {
    "colab": {
     "base_uri": "https://localhost:8080/",
     "height": 119
    },
    "executionInfo": {
     "elapsed": 10952,
     "status": "ok",
     "timestamp": 1648030141412,
     "user": {
      "displayName": "Shubham Balodi",
      "photoUrl": "https://lh3.googleusercontent.com/a/default-user=s64",
      "userId": "12667125085737334074"
     },
     "user_tz": -330
    },
    "id": "-QXbrcrTr8GD",
    "outputId": "aafa9059-b694-4844-aa23-9568678f3fba"
   },
   "outputs": [
    {
     "name": "stdout",
     "output_type": "stream",
     "text": [
      "[jovian] Detected Colab notebook...\u001b[0m\n",
      "[jovian] Please enter your API key ( from https://jovian.ai/ ):\u001b[0m\n",
      "API KEY: ··········\n",
      "[jovian] Uploading colab notebook to Jovian...\u001b[0m\n",
      "Committed successfully! https://jovian.ai/shubhambalodi79/super-resolution-gan-srgan\n"
     ]
    },
    {
     "data": {
      "application/vnd.google.colaboratory.intrinsic+json": {
       "type": "string"
      },
      "text/plain": [
       "'https://jovian.ai/shubhambalodi79/super-resolution-gan-srgan'"
      ]
     },
     "execution_count": 4,
     "metadata": {},
     "output_type": "execute_result"
    }
   ],
   "source": [
    "# Execute this to save new versions of the notebook\n",
    "jovian.commit(project=\"super-resolution-gan-srgan\")"
   ]
  },
  {
   "cell_type": "markdown",
   "metadata": {
    "id": "Pe3Pi0_QCujr"
   },
   "source": [
    " - Residual blocks, from [Deep Residual Learning for Image Recognition](https://arxiv.org/abs/1512.03385) (He et al. 2015)\n",
    " - Perceptual loss, from [Perceptual Losses for Real-Time Style Transfer and Super-Resolution](https://arxiv.org/abs/1603.08155) (Johnson et al. 2016)\n",
    " - VGG architecture, from [Very Deep Convolutional Networks for Large-Scale Image Recognition](https://arxiv.org/abs/1409.1556) (Simonyan et al. 2015)\n",
    "\n",
    "### Goals\n",
    "\n",
    "In this notebook, you will learn about Super-Resolution GAN (SRGAN), a GAN that enhances the resolution of images by 4x, proposed in [Photo-Realistic Single Image Super-Resolution Using a Generative Adversarial Network](https://arxiv.org/abs/1609.04802) (Ledig et al. 2017). You will also implement the architecture and training in full and be able to train it on the CIFAR dataset.\n",
    "\n",
    "### Background\n",
    "\n",
    "The authors first train a super-resolution residual network (SRResNet) with standard pixel-wise loss that achieves state-of-the-art metrics. They then insert this as the generator in the SRGAN framework, which is trained with a combination of pixel-wise, perceptual, and adversarial losses."
   ]
  },
  {
   "cell_type": "markdown",
   "metadata": {
    "id": "qLg4r88-C4NZ"
   },
   "source": [
    "### SRGAN Submodules\n",
    "\n",
    "Before jumping into SRGAN, let's first take a look at some components that will be useful later."
   ]
  },
  {
   "cell_type": "markdown",
   "metadata": {
    "id": "2zCDalF4C_k1"
   },
   "source": [
    "### Parametric ReLU (PReLU)\n",
    "\n",
    "As you already know, ReLU is one of the simplest activation functions that can be described as\n",
    "\n",
    "\\begin{align*}\n",
    "    x_{\\text{ReLU}} := \\max(0, x),\n",
    "\\end{align*}\n",
    "\n",
    "where negative values of $x$ become thresholded at $0$. However, this stops gradient through these negative values, which can hinder training. The authors of [Delving Deep into Rectifiers: Surpassing Human-Level Performance on ImageNet Classification](https://arxiv.org/abs/1502.01852) addressed this by introducing a more general ReLU by scaling negative values by some constant $a > 0$:\n",
    "\n",
    "\\begin{align*}\n",
    "    x_{\\text{PReLU}} := \\max(0, x) + a * \\min(0, x).\n",
    "\\end{align*}\n",
    "\n",
    "Conveniently, this is implemented in Pytorch as [torch.nn.PReLU](https://pytorch.org/docs/stable/generated/torch.nn.PReLU.html)"
   ]
  },
  {
   "cell_type": "markdown",
   "metadata": {
    "id": "7mCjkjsmDGCz"
   },
   "source": [
    "### Residual Blocks\n",
    "\n",
    "The residual block, which is relevant in many state-of-the-art computer vision models, is used in all parts of SRGAN and is similar to the ones used in Pix2PixHD (see optional notebook). If you're not familiar with residual blocks, please take a look [here](https://paperswithcode.com/method/residual-block). Now, you'll start by first implementing a basic residual block."
   ]
  },
  {
   "cell_type": "code",
   "execution_count": null,
   "metadata": {
    "id": "R4NVl4Zgr8GF"
   },
   "outputs": [],
   "source": [
    "import torch\n",
    "import torch.nn as nn\n",
    "import torch.nn.functional as F\n",
    "\n",
    "class ResidualBlock(nn.Module):\n",
    "    '''\n",
    "    ResidualBlock Class\n",
    "    Values\n",
    "        channels: the number of channels throughout the residual block, a scalar\n",
    "    '''\n",
    "\n",
    "    def __init__(self, channels):\n",
    "        super().__init__()\n",
    "\n",
    "        self.layers = nn.Sequential(\n",
    "            nn.Conv2d(channels, channels, kernel_size=3, padding=1),\n",
    "            nn.BatchNorm2d(channels),\n",
    "            nn.PReLU(),\n",
    "\n",
    "            nn.Conv2d(channels, channels, kernel_size=3, padding=1),\n",
    "            nn.BatchNorm2d(channels),\n",
    "        )\n",
    "\n",
    "    def forward(self, x):\n",
    "        return x + self.layers(x)"
   ]
  },
  {
   "cell_type": "markdown",
   "metadata": {
    "id": "WPpt10IODJoD"
   },
   "source": [
    "###  PixelShuffle\n",
    "\n",
    "Proposed in [Real-Time Single Image and Video Super-Resolution Using an Efficient Sub-Pixel Convolutional Neural Network](https://arxiv.org/abs/1609.05158) (Shi et al. 2016), PixelShuffle, also called sub-pixel convolution, is another way to upsample an image.\n",
    "\n",
    "PixelShuffle simply reshapes a $r^2C\\ x\\ H\\ x\\ W$ tensor into a $C\\ x\\ rH\\ x\\ rW$ tensor, essentially trading channel information for spatial information. Instead of convolving with stride $1/r$ as in deconvolution, the authors think about the weights in the kernel as being spaced $1/r$ pixels apart. When sliding this kernel over an input, the weights that fall between pixels aren't activated and don't need need to be calculated. The total number of activation patterns is thus increased by a factor of $r^2$. This operation is illustrated in the figure below.\n",
    "\n",
    "Don't worry if this is confusing! The algorithm is conveniently implemented as `torch.nn.PixelShuffle` in PyTorch, so as long as you have a general idea of how this works, you're set.\n",
    "\n",
    "> ![Efficient Sub-pixel CNN](https://github.com/https-deeplearning-ai/GANs-Public/blob/master/SRGAN-PixelShuffle.png?raw=true)\n",
    "*Efficient sub-pixel CNN, taken from Figure 1 of [Real-Time Single Image and Video Super-Resolution Using an Efficient Sub-Pixel Convolutional Neural Network](https://arxiv.org/abs/1609.05158) (Shi et al. 2016). The PixelShuffle operation (also known as sub-pixel convolution) is shown as the last step on the right.*"
   ]
  },
  {
   "cell_type": "markdown",
   "metadata": {
    "id": "fzTI21eFDVjQ"
   },
   "source": [
    "### Generator (SRResNet)\n",
    "\n",
    "The super-resolution residual network (SRResNet) and the generator are the same thing. The generator network architecture is actually quite simple - just a bunch of convolutional layers, residual blocks, and pixel shuffling layers!\n",
    "\n",
    "> ![SRGAN Generator](https://github.com/https-deeplearning-ai/GANs-Public/blob/master/SRGAN-Generator.png?raw=true)\n",
    "*SRGAN Generator, taken from Figure 4 of [Photo-Realistic Single Image Super-Resolution Using a Generative Adversarial Network](https://arxiv.org/abs/1609.04802) (Ledig et al. 2017).*"
   ]
  },
  {
   "cell_type": "code",
   "execution_count": null,
   "metadata": {
    "id": "13E9_SkPuP0O"
   },
   "outputs": [],
   "source": [
    "class Generator(nn.Module):\n",
    "    '''\n",
    "    Generator Class\n",
    "    Values:\n",
    "        base_channels: number of channels throughout the generator, a scalar\n",
    "        n_ps_blocks: number of PixelShuffle blocks, a scalar\n",
    "        n_res_blocks: number of residual blocks, a scalar\n",
    "    '''\n",
    "\n",
    "    def __init__(self, base_channels=64, n_ps_blocks=2, n_res_blocks=16):\n",
    "        super().__init__()\n",
    "        # Input layer\n",
    "        self.in_layer = nn.Sequential(\n",
    "            nn.Conv2d(3, base_channels, kernel_size=9, padding=4),\n",
    "            nn.PReLU(),\n",
    "        )\n",
    "\n",
    "        # Residual blocks\n",
    "        res_blocks = []\n",
    "        for _ in range(n_res_blocks):\n",
    "            res_blocks += [ResidualBlock(base_channels)]\n",
    "\n",
    "        res_blocks += [\n",
    "            nn.Conv2d(base_channels, base_channels, kernel_size=3, padding=1),\n",
    "            nn.BatchNorm2d(base_channels),\n",
    "        ]\n",
    "        self.res_blocks = nn.Sequential(*res_blocks)\n",
    "\n",
    "        # PixelShuffle blocks\n",
    "        ps_blocks = []\n",
    "        for _ in range(n_ps_blocks):\n",
    "            ps_blocks += [\n",
    "                nn.Conv2d(base_channels, 4 * base_channels, kernel_size=3, padding=1),\n",
    "                nn.PixelShuffle(2),\n",
    "                nn.PReLU(),\n",
    "            ]\n",
    "        self.ps_blocks = nn.Sequential(*ps_blocks)\n",
    "\n",
    "        # Output layer\n",
    "        self.out_layer = nn.Sequential(\n",
    "            nn.Conv2d(base_channels, 3, kernel_size=9, padding=4),\n",
    "            nn.Tanh(),\n",
    "        )\n",
    "\n",
    "    def forward(self, x):\n",
    "        x_res = self.in_layer(x)\n",
    "        x = x_res + self.res_blocks(x_res)\n",
    "        x = self.ps_blocks(x)\n",
    "        x = self.out_layer(x)\n",
    "        return x"
   ]
  },
  {
   "cell_type": "markdown",
   "metadata": {
    "id": "jy3DT2u5DdCy"
   },
   "source": [
    "### Discriminator\n",
    "\n",
    "The discriminator architecture is also relatively straightforward, just one big sequential model - see the diagram below for reference!\n",
    "\n",
    "![SRGAN Generator](https://github.com/https-deeplearning-ai/GANs-Public/blob/master/SRGAN-Discriminator.png?raw=true)\n",
    "*SRGAN Discriminator, taken from Figure 4 of [Photo-Realistic Single Image Super-Resolution Using a Generative Adversarial Network](https://arxiv.org/abs/1609.04802) (Ledig et al. 2017).*"
   ]
  },
  {
   "cell_type": "code",
   "execution_count": null,
   "metadata": {
    "id": "BBY-4vbAygg-"
   },
   "outputs": [],
   "source": [
    "class Discriminator(nn.Module):\n",
    "    '''\n",
    "    Discriminator Class\n",
    "    Values:\n",
    "        base_channels: number of channels in first convolutional layer, a scalar\n",
    "        n_blocks: number of convolutional blocks, a scalar\n",
    "    '''\n",
    "\n",
    "    def __init__(self, base_channels=64, n_blocks=3):\n",
    "        super().__init__()\n",
    "        self.blocks = [\n",
    "            nn.Conv2d(3, base_channels, kernel_size=3, padding=1),\n",
    "            nn.LeakyReLU(0.2, inplace=True),\n",
    "\n",
    "            nn.Conv2d(base_channels, base_channels, kernel_size=3, padding=1, stride=2),\n",
    "            nn.BatchNorm2d(base_channels),\n",
    "            nn.LeakyReLU(0.2, inplace=True),\n",
    "        ]\n",
    "\n",
    "        cur_channels = base_channels\n",
    "        for i in range(n_blocks):\n",
    "            self.blocks += [\n",
    "                nn.Conv2d(cur_channels, 2 * cur_channels, kernel_size=3, padding=1),\n",
    "                nn.BatchNorm2d(2 * cur_channels),\n",
    "                nn.LeakyReLU(0.2, inplace=True),\n",
    "\n",
    "                nn.Conv2d(2 * cur_channels, 2 * cur_channels, kernel_size=3, padding=1, stride=2),\n",
    "                nn.BatchNorm2d(2 * cur_channels),\n",
    "                nn.LeakyReLU(0.2, inplace=True),\n",
    "            ]\n",
    "            cur_channels *= 2\n",
    "\n",
    "        self.blocks += [\n",
    "            # You can replicate nn.Linear with pointwise nn.Conv2d\n",
    "            nn.AdaptiveAvgPool2d(1),\n",
    "            nn.Conv2d(cur_channels, 2 * cur_channels, kernel_size=1, padding=0),\n",
    "            nn.LeakyReLU(0.2, inplace=True),\n",
    "            nn.Conv2d(2 * cur_channels, 1, kernel_size=1, padding=0),\n",
    "\n",
    "            # Apply sigmoid if necessary in loss function for stability\n",
    "            nn.Flatten(),\n",
    "        ]\n",
    "\n",
    "        self.layers = nn.Sequential(*self.blocks)\n",
    "\n",
    "    def forward(self, x):\n",
    "        return self.layers(x)\n",
    "    \n"
   ]
  },
  {
   "cell_type": "markdown",
   "metadata": {
    "id": "3gvaCiMUDgGs"
   },
   "source": [
    "## Loss Functions\n",
    "\n",
    "The authors formulate the perceptual loss as a weighted sum of content loss (based on the VGG19 network) and adversarial loss.\n",
    "\n",
    "\\begin{align*}\n",
    "    \\mathcal{L} &= \\mathcal{L}_{VGG} + 10^{-3}\\mathcal{L}_{ADV}\n",
    "\\end{align*}\n",
    "\n",
    "**Content Loss**\n",
    "\n",
    "Previous approaches have used MSE loss for content loss, but this objective function tends to produce blurry images. To address this, they add an extra MSE loss term on VGG19 feature maps. So for feature map $\\phi_{5,4}$ (the feature map after the 4th convolution before the 5th max-pooling layer) from the VGG19 network,\n",
    "\n",
    "\\begin{align*}\n",
    "    \\mathcal{L}_{VGG} &= \\left|\\left|\\phi_{5,4}(I^{\\text{HR}}) - \\phi_{5,4}(G(I^{\\text{LR}}))\\right|\\right|_2^2\n",
    "\\end{align*}\n",
    "\n",
    "where $I^{\\text{HR}}$ is the original high-resolution image and $I^{\\text{LR}}$ is the corresponding low-resolution image.\n",
    "\n",
    "**Adversarial Loss**\n",
    "\n",
    "You should already be familiar with adversarial loss, which is formulated as\n",
    "\n",
    "\\begin{align*}\n",
    "    \\mathcal{L}_{ADV} &= \\sum_{n=1}^N -\\log D(G(I^{\\text{LR}}))\n",
    "\\end{align*}\n",
    "\n",
    "Note that $-\\log D(G(\\cdot))$ is used instead of $\\log [1 - D(G(\\cdot))]$ for better gradient behavior."
   ]
  },
  {
   "cell_type": "code",
   "execution_count": null,
   "metadata": {
    "id": "52xAH7EA2PUL"
   },
   "outputs": [],
   "source": [
    "from torchvision.models import vgg19\n",
    "\n",
    "class Loss(nn.Module):\n",
    "    '''\n",
    "    Loss Class\n",
    "    Implements composite content+adversarial loss for SRGAN\n",
    "    Values:\n",
    "        device: 'cuda' or 'cpu' hardware to put VGG network on, a string\n",
    "    '''\n",
    "\n",
    "    def __init__(self, device='cpu'):\n",
    "        super().__init__()\n",
    "\n",
    "        vgg = vgg19(pretrained=True).to(device)\n",
    "        self.vgg = nn.Sequential(*list(vgg.features)[:-1]).eval()\n",
    "        for p in self.vgg.parameters():\n",
    "            p.requires_grad = False\n",
    "\n",
    "    @staticmethod\n",
    "    def img_loss(x_real, x_fake):\n",
    "        return F.mse_loss(x_real, x_fake)\n",
    "\n",
    "    def adv_loss(self, x, is_real):\n",
    "        target = torch.zeros_like(x) if is_real else torch.ones_like(x)\n",
    "        return F.binary_cross_entropy_with_logits(x, target)\n",
    "\n",
    "    def vgg_loss(self, x_real, x_fake):\n",
    "        return F.mse_loss(self.vgg(x_real), self.vgg(x_fake))\n",
    "\n",
    "    def forward(self, generator, discriminator, hr_real, lr_real):\n",
    "        ''' Performs forward pass and returns total losses for G and D '''\n",
    "        hr_fake = generator(lr_real)\n",
    "        fake_preds_for_g = discriminator(hr_fake)\n",
    "        fake_preds_for_d = discriminator(hr_fake.detach())\n",
    "        real_preds_for_d = discriminator(hr_real.detach())\n",
    "\n",
    "        g_loss = (\n",
    "            0.001 * self.adv_loss(fake_preds_for_g, False) + \\\n",
    "            0.006 * self.vgg_loss(hr_real, hr_fake) + \\\n",
    "            self.img_loss(hr_real, hr_fake)\n",
    "        )\n",
    "        d_loss = 0.5 * (\n",
    "            self.adv_loss(real_preds_for_d, True) + \\\n",
    "            self.adv_loss(fake_preds_for_d, False)\n",
    "        )\n",
    "\n",
    "        return g_loss, d_loss, hr_fake"
   ]
  },
  {
   "cell_type": "markdown",
   "metadata": {
    "id": "twRqwSis5s_9"
   },
   "source": [
    "## Training SRGAN\n",
    "\n",
    "Now it's time to train your SRGAN! Let's first begin by defining our dataset"
   ]
  },
  {
   "cell_type": "code",
   "execution_count": null,
   "metadata": {
    "id": "OQ_Cek4W5if5"
   },
   "outputs": [],
   "source": [
    "from PIL import Image\n",
    "import numpy as np\n",
    "import torchvision\n",
    "import torchvision.transforms as transforms\n",
    "\n",
    "# We are using STL (for speed and also since ImageNet is no longer publicly available)\n",
    "USING_STL = True\n",
    "if USING_STL:\n",
    "    DatasetSubclass = torchvision.datasets.STL10\n",
    "else:\n",
    "    DatasetSubclass = torchvision.datasets.ImageNet\n",
    "\n",
    "class Dataset(DatasetSubclass):\n",
    "    '''\n",
    "    Dataset Class\n",
    "    Implements a general dataset class for STL10 and ImageNet\n",
    "    Values:\n",
    "        hr_size: spatial size of high-resolution image, a list/tuple\n",
    "        lr_size: spatial size of low-resolution image, a list/tuple\n",
    "        *args/**kwargs: all other arguments for subclassed torchvision dataset\n",
    "    '''\n",
    "\n",
    "    def __init__(self, *args, **kwargs):\n",
    "        hr_size = kwargs.pop('hr_size', [96, 96])\n",
    "        lr_size = kwargs.pop('lr_size', [24, 24])\n",
    "        super().__init__(*args, **kwargs)\n",
    "\n",
    "        if hr_size is not None and lr_size is not None:\n",
    "            assert hr_size[0] == 4 * lr_size[0]\n",
    "            assert hr_size[1] == 4 * lr_size[1]\n",
    "\n",
    "        # High-res images are cropped and scaled to [-1, 1]\n",
    "        self.hr_transforms = transforms.Compose([\n",
    "            transforms.RandomCrop(hr_size),\n",
    "            transforms.RandomHorizontalFlip(),\n",
    "            transforms.Lambda(lambda img: np.array(img)),\n",
    "            transforms.ToTensor(),\n",
    "            transforms.Normalize((0.5, 0.5, 0.5), (0.5, 0.5, 0.5)),\n",
    "        ])\n",
    "\n",
    "        # Low-res images are downsampled with bicubic kernel and scaled to [0, 1]\n",
    "        self.lr_transforms = transforms.Compose([\n",
    "            transforms.Normalize((-1.0, -1.0, -1.0), (2.0, 2.0, 2.0)),\n",
    "            transforms.ToPILImage(),\n",
    "            transforms.Resize(lr_size, interpolation=Image.BICUBIC),\n",
    "            transforms.ToTensor(),\n",
    "        ])\n",
    "\n",
    "        self.to_pil = transforms.ToPILImage()\n",
    "        self.to_tensor = transforms.ToTensor()\n",
    "\n",
    "    def __getitem__(self, idx):\n",
    "        # Uncomment the following lines if you're using ImageNet\n",
    "        # path, label = self.imgs[idx]\n",
    "        # image = Image.open(path).convert('RGB')\n",
    "\n",
    "        # Uncomment the following if you're using STL\n",
    "        image = torch.from_numpy(self.data[idx])\n",
    "        image = self.to_pil(image)\n",
    "\n",
    "        hr = self.hr_transforms(image)\n",
    "        lr = self.lr_transforms(hr)\n",
    "        return hr, lr\n",
    "\n",
    "    @staticmethod\n",
    "    def collate_fn(batch):\n",
    "        hrs, lrs = [], []\n",
    "\n",
    "        for hr, lr in batch:\n",
    "            hrs.append(hr)\n",
    "            lrs.append(lr)\n",
    "\n",
    "        return torch.stack(hrs, dim=0), torch.stack(lrs, dim=0) "
   ]
  },
  {
   "cell_type": "markdown",
   "metadata": {
    "id": "dXExAnqK98Mm"
   },
   "source": [
    "Recall that the generator (SRResNet) is first trained alone with MSE loss and is combined with the discriminator and trained as SRGAN after. Check out the training loops below:"
   ]
  },
  {
   "cell_type": "code",
   "execution_count": null,
   "metadata": {
    "id": "-acxNZxj9nS1"
   },
   "outputs": [],
   "source": [
    "from tqdm import tqdm\n",
    "from torchvision.utils import make_grid\n",
    "import matplotlib.pyplot as plt\n",
    "\n",
    "# Parse torch version for autocast\n",
    "# ######################################################\n",
    "version = torch.__version__\n",
    "version = tuple(int(n) for n in version.split('.')[:-1])\n",
    "has_autocast = version >= (1, 6)\n",
    "# ######################################################\n",
    "\n",
    "def show_tensor_images(image_tensor):\n",
    "    '''\n",
    "    Function for visualizing images: Given a tensor of images, number of images, and\n",
    "    size per image, plots and prints the images in an uniform grid.\n",
    "    '''\n",
    "    image_tensor = (image_tensor + 1) / 2\n",
    "    image_unflat = image_tensor.detach().cpu()\n",
    "    image_grid = make_grid(image_unflat[:4], nrow=4)\n",
    "    plt.axis('off')\n",
    "    plt.imshow(image_grid.permute(1, 2, 0).squeeze())\n",
    "    plt.show()\n",
    "\n",
    "def train_srresnet(srresnet, dataloader, device, lr=1e-4, total_steps=1e6, display_step=500):\n",
    "    srresnet = srresnet.to(device).train()\n",
    "    optimizer = torch.optim.Adam(srresnet.parameters(), lr=lr)\n",
    "\n",
    "    cur_step = 0\n",
    "    mean_loss = 0.0\n",
    "    while cur_step < total_steps:\n",
    "        for hr_real, lr_real in tqdm(dataloader, position=0):\n",
    "            hr_real = hr_real.to(device)\n",
    "            lr_real = lr_real.to(device)\n",
    "\n",
    "            # Enable autocast to FP16 tensors (new feature since torch==1.6.0)\n",
    "            # If you're running older versions of torch, comment this out\n",
    "            # and use NVIDIA apex for mixed/half precision training\n",
    "            if has_autocast:\n",
    "                with torch.cuda.amp.autocast(enabled=(device=='cuda')):\n",
    "                    hr_fake = srresnet(lr_real)\n",
    "                    loss = Loss.img_loss(hr_real, hr_fake)\n",
    "            else:\n",
    "                hr_fake = srresnet(lr_real)\n",
    "                loss = Loss.img_loss(hr_real, hr_fake)\n",
    "            \n",
    "            optimizer.zero_grad()\n",
    "            loss.backward()\n",
    "            optimizer.step()\n",
    "\n",
    "            mean_loss += loss.item() / display_step\n",
    "\n",
    "            if cur_step % display_step == 0 and cur_step > 0:\n",
    "                print('Step {}: SRResNet loss: {:.5f}'.format(cur_step, mean_loss))\n",
    "                show_tensor_images(lr_real * 2 - 1)\n",
    "                show_tensor_images(hr_fake.to(hr_real.dtype))\n",
    "                show_tensor_images(hr_real)\n",
    "                mean_loss = 0.0\n",
    "\n",
    "            cur_step += 1\n",
    "            if cur_step == total_steps:\n",
    "                break\n",
    "\n",
    "def train_srgan(generator, discriminator, dataloader, device, lr=1e-4, total_steps=2e5, display_step=500):\n",
    "    generator = generator.to(device).train()\n",
    "    discriminator = discriminator.to(device).train()\n",
    "    loss_fn = Loss(device=device)\n",
    "\n",
    "    g_optimizer = torch.optim.Adam(generator.parameters(), lr=lr)\n",
    "    d_optimizer = torch.optim.Adam(discriminator.parameters(), lr=lr)\n",
    "    g_scheduler = torch.optim.lr_scheduler.LambdaLR(g_optimizer, lambda _: 0.1)\n",
    "    d_scheduler = torch.optim.lr_scheduler.LambdaLR(d_optimizer, lambda _: 0.1)\n",
    "\n",
    "    lr_step = total_steps // 2\n",
    "    cur_step = 0\n",
    "\n",
    "    mean_g_loss = 0.0\n",
    "    mean_d_loss = 0.0\n",
    "\n",
    "    while cur_step < total_steps:\n",
    "        for hr_real, lr_real in tqdm(dataloader, position=0):\n",
    "            hr_real = hr_real.to(device)\n",
    "            lr_real = lr_real.to(device)\n",
    "\n",
    "            # Enable autocast to FP16 tensors (new feature since torch==1.6.0)\n",
    "            # If you're running older versions of torch, comment this out\n",
    "            # and use NVIDIA apex for mixed/half precision training\n",
    "            if has_autocast:\n",
    "                with torch.cuda.amp.autocast(enabled=(device=='cuda')):\n",
    "                    g_loss, d_loss, hr_fake = loss_fn(\n",
    "                        generator, discriminator, hr_real, lr_real,\n",
    "                    )\n",
    "            else:\n",
    "                g_loss, d_loss, hr_fake = loss_fn(\n",
    "                    generator, discriminator, hr_real, lr_real,\n",
    "                )\n",
    "\n",
    "            g_optimizer.zero_grad()\n",
    "            g_loss.backward()\n",
    "            g_optimizer.step()\n",
    "\n",
    "            d_optimizer.zero_grad()\n",
    "            d_loss.backward()\n",
    "            d_optimizer.step()\n",
    "\n",
    "            mean_g_loss += g_loss.item() / display_step\n",
    "            mean_d_loss += d_loss.item() / display_step\n",
    "\n",
    "            if cur_step == lr_step:\n",
    "                g_scheduler.step()\n",
    "                d_scheduler.step()\n",
    "                print('Decayed learning rate by 10x.')\n",
    "\n",
    "            if cur_step % display_step == 0 and cur_step > 0:\n",
    "                print('Step {}: Generator loss: {:.5f}, Discriminator loss: {:.5f}'.format(cur_step, mean_g_loss, mean_d_loss))\n",
    "                show_tensor_images(lr_real * 2 - 1)\n",
    "                show_tensor_images(hr_fake.to(hr_real.dtype))\n",
    "                show_tensor_images(hr_real)\n",
    "                mean_g_loss = 0.0\n",
    "                mean_d_loss = 0.0\n",
    "\n",
    "            cur_step += 1\n",
    "            if cur_step == total_steps:\n",
    "                break"
   ]
  },
  {
   "cell_type": "code",
   "execution_count": 11,
   "metadata": {
    "colab": {
     "base_uri": "https://localhost:8080/",
     "height": 1000,
     "output_embedded_package_id": "1vpVLduSQ_47XmAtlEEd0jAF7hxy2QPfo",
     "referenced_widgets": [
      "9a1d3b4b651c4e0b904ea3dedf3c9a3c",
      "a96f42415f404d6cbbf541377096e173",
      "7752cb93d516480e840c3194c69c790c",
      "d253d8a012c547e69bc586c9a5322a7e",
      "4c2da26c91e34b57936bda6db7dc5c85",
      "8e9ef670fc9b4793b4c989527ef45f9e",
      "1f6cec2318534abcb81fe9096466bb00",
      "f75d1be1219f438ea9b76698f7e5a891",
      "5cdfd017149b4099b344420e44f3a945",
      "e305bf5fb59b470d90093bfd23e9a906",
      "574ad7ebbcc4420fadad563afcc066d2"
     ]
    },
    "executionInfo": {
     "elapsed": 1642911,
     "status": "error",
     "timestamp": 1648042388595,
     "user": {
      "displayName": "Shubham Balodi",
      "photoUrl": "https://lh3.googleusercontent.com/a/default-user=s64",
      "userId": "12667125085737334074"
     },
     "user_tz": -330
    },
    "id": "wnoB4MGhEdcL",
    "outputId": "3c754865-768b-4d13-b558-58a00789e154"
   },
   "outputs": [
    {
     "data": {
      "text/plain": [
       "Output hidden; open in https://colab.research.google.com to view."
      ]
     },
     "metadata": {},
     "output_type": "display_data"
    }
   ],
   "source": [
    "device = 'cuda' if torch.cuda.is_available() else 'cpu'\n",
    "generator = Generator(n_res_blocks=16, n_ps_blocks=2)\n",
    "\n",
    "# Uncomment the following lines if you're using ImageNet\n",
    "# dataloader = torch.utils.data.DataLoader(\n",
    "#     Dataset('data', 'train', download=True, hr_size=[384, 384], lr_size=[96, 96]),\n",
    "#     batch_size=16, pin_memory=True, shuffle=True,\n",
    "# )\n",
    "# train_srresnet(generator, dataloader, device, lr=1e-4, total_steps=1e6, display_step=500)\n",
    "# torch.save(generator, 'srresnet.pt')\n",
    "\n",
    "# Uncomment the following lines if you're using STL\n",
    "dataloader = torch.utils.data.DataLoader(\n",
    "    Dataset('data', 'train', download=True, hr_size=[96, 96], lr_size=[24, 24]),\n",
    "    batch_size=16, pin_memory=True, shuffle=True,\n",
    ")\n",
    "train_srresnet(generator, dataloader, device, lr=1e-4, total_steps=1e5, display_step=1000)\n",
    "torch.save(generator, 'srresnet.pt')"
   ]
  },
  {
   "cell_type": "code",
   "execution_count": null,
   "metadata": {
    "executionInfo": {
     "elapsed": 11,
     "status": "aborted",
     "timestamp": 1648042388605,
     "user": {
      "displayName": "Shubham Balodi",
      "photoUrl": "https://lh3.googleusercontent.com/a/default-user=s64",
      "userId": "12667125085737334074"
     },
     "user_tz": -330
    },
    "id": "N-lXhLzGEibt"
   },
   "outputs": [],
   "source": [
    "generator = torch.load('srresnet.pt')\n",
    "discriminator = Discriminator(n_blocks=1, base_channels=8)\n",
    "\n",
    "# Uncomment the following lines if you're using ImageNet\n",
    "# train_srgan(generator, discriminator, dataloader, device, lr=1e-4, total_steps=2e5, display_step=500)\n",
    "# torch.save(generator, 'srgenerator.pt')\n",
    "# torch.save(discriminator, 'srdiscriminator.pt')\n",
    "\n",
    "# Uncomment the following lines if you're using STL\n",
    "train_srgan(generator, discriminator, dataloader, device, lr=1e-4, total_steps=2e5, display_step=1000)\n",
    "torch.save(generator, 'srgenerator.pt')\n",
    "torch.save(discriminator, 'srdiscriminator.pt')"
   ]
  },
  {
   "cell_type": "code",
   "execution_count": null,
   "metadata": {
    "executionInfo": {
     "elapsed": 15,
     "status": "aborted",
     "timestamp": 1648042388608,
     "user": {
      "displayName": "Shubham Balodi",
      "photoUrl": "https://lh3.googleusercontent.com/a/default-user=s64",
      "userId": "12667125085737334074"
     },
     "user_tz": -330
    },
    "id": "qXC-fjZmE8ZH"
   },
   "outputs": [],
   "source": [
    "jovian.commit()"
   ]
  }
 ],
 "metadata": {
  "accelerator": "GPU",
  "colab": {
   "name": "super-resolution-gan-srgan.ipynb",
   "provenance": []
  },
  "language_info": {
   "codemirror_mode": {
    "name": "ipython",
    "version": 3
   },
   "file_extension": ".py",
   "mimetype": "text/x-python",
   "name": "python",
   "nbconvert_exporter": "python",
   "pygments_lexer": "ipython3",
   "version": "3.9.6"
  },
  "widgets": {
   "application/vnd.jupyter.widget-state+json": {
    "1f6cec2318534abcb81fe9096466bb00": {
     "model_module": "@jupyter-widgets/controls",
     "model_module_version": "1.5.0",
     "model_name": "DescriptionStyleModel",
     "state": {
      "_model_module": "@jupyter-widgets/controls",
      "_model_module_version": "1.5.0",
      "_model_name": "DescriptionStyleModel",
      "_view_count": null,
      "_view_module": "@jupyter-widgets/base",
      "_view_module_version": "1.2.0",
      "_view_name": "StyleView",
      "description_width": ""
     }
    },
    "4c2da26c91e34b57936bda6db7dc5c85": {
     "model_module": "@jupyter-widgets/base",
     "model_module_version": "1.2.0",
     "model_name": "LayoutModel",
     "state": {
      "_model_module": "@jupyter-widgets/base",
      "_model_module_version": "1.2.0",
      "_model_name": "LayoutModel",
      "_view_count": null,
      "_view_module": "@jupyter-widgets/base",
      "_view_module_version": "1.2.0",
      "_view_name": "LayoutView",
      "align_content": null,
      "align_items": null,
      "align_self": null,
      "border": null,
      "bottom": null,
      "display": null,
      "flex": null,
      "flex_flow": null,
      "grid_area": null,
      "grid_auto_columns": null,
      "grid_auto_flow": null,
      "grid_auto_rows": null,
      "grid_column": null,
      "grid_gap": null,
      "grid_row": null,
      "grid_template_areas": null,
      "grid_template_columns": null,
      "grid_template_rows": null,
      "height": null,
      "justify_content": null,
      "justify_items": null,
      "left": null,
      "margin": null,
      "max_height": null,
      "max_width": null,
      "min_height": null,
      "min_width": null,
      "object_fit": null,
      "object_position": null,
      "order": null,
      "overflow": null,
      "overflow_x": null,
      "overflow_y": null,
      "padding": null,
      "right": null,
      "top": null,
      "visibility": null,
      "width": null
     }
    },
    "574ad7ebbcc4420fadad563afcc066d2": {
     "model_module": "@jupyter-widgets/controls",
     "model_module_version": "1.5.0",
     "model_name": "DescriptionStyleModel",
     "state": {
      "_model_module": "@jupyter-widgets/controls",
      "_model_module_version": "1.5.0",
      "_model_name": "DescriptionStyleModel",
      "_view_count": null,
      "_view_module": "@jupyter-widgets/base",
      "_view_module_version": "1.2.0",
      "_view_name": "StyleView",
      "description_width": ""
     }
    },
    "5cdfd017149b4099b344420e44f3a945": {
     "model_module": "@jupyter-widgets/controls",
     "model_module_version": "1.5.0",
     "model_name": "ProgressStyleModel",
     "state": {
      "_model_module": "@jupyter-widgets/controls",
      "_model_module_version": "1.5.0",
      "_model_name": "ProgressStyleModel",
      "_view_count": null,
      "_view_module": "@jupyter-widgets/base",
      "_view_module_version": "1.2.0",
      "_view_name": "StyleView",
      "bar_color": null,
      "description_width": ""
     }
    },
    "7752cb93d516480e840c3194c69c790c": {
     "model_module": "@jupyter-widgets/controls",
     "model_module_version": "1.5.0",
     "model_name": "FloatProgressModel",
     "state": {
      "_dom_classes": [],
      "_model_module": "@jupyter-widgets/controls",
      "_model_module_version": "1.5.0",
      "_model_name": "FloatProgressModel",
      "_view_count": null,
      "_view_module": "@jupyter-widgets/controls",
      "_view_module_version": "1.5.0",
      "_view_name": "ProgressView",
      "bar_style": "success",
      "description": "",
      "description_tooltip": null,
      "layout": "IPY_MODEL_f75d1be1219f438ea9b76698f7e5a891",
      "max": 2640397119,
      "min": 0,
      "orientation": "horizontal",
      "style": "IPY_MODEL_5cdfd017149b4099b344420e44f3a945",
      "value": 2640397119
     }
    },
    "8e9ef670fc9b4793b4c989527ef45f9e": {
     "model_module": "@jupyter-widgets/base",
     "model_module_version": "1.2.0",
     "model_name": "LayoutModel",
     "state": {
      "_model_module": "@jupyter-widgets/base",
      "_model_module_version": "1.2.0",
      "_model_name": "LayoutModel",
      "_view_count": null,
      "_view_module": "@jupyter-widgets/base",
      "_view_module_version": "1.2.0",
      "_view_name": "LayoutView",
      "align_content": null,
      "align_items": null,
      "align_self": null,
      "border": null,
      "bottom": null,
      "display": null,
      "flex": null,
      "flex_flow": null,
      "grid_area": null,
      "grid_auto_columns": null,
      "grid_auto_flow": null,
      "grid_auto_rows": null,
      "grid_column": null,
      "grid_gap": null,
      "grid_row": null,
      "grid_template_areas": null,
      "grid_template_columns": null,
      "grid_template_rows": null,
      "height": null,
      "justify_content": null,
      "justify_items": null,
      "left": null,
      "margin": null,
      "max_height": null,
      "max_width": null,
      "min_height": null,
      "min_width": null,
      "object_fit": null,
      "object_position": null,
      "order": null,
      "overflow": null,
      "overflow_x": null,
      "overflow_y": null,
      "padding": null,
      "right": null,
      "top": null,
      "visibility": null,
      "width": null
     }
    },
    "9a1d3b4b651c4e0b904ea3dedf3c9a3c": {
     "model_module": "@jupyter-widgets/controls",
     "model_module_version": "1.5.0",
     "model_name": "HBoxModel",
     "state": {
      "_dom_classes": [],
      "_model_module": "@jupyter-widgets/controls",
      "_model_module_version": "1.5.0",
      "_model_name": "HBoxModel",
      "_view_count": null,
      "_view_module": "@jupyter-widgets/controls",
      "_view_module_version": "1.5.0",
      "_view_name": "HBoxView",
      "box_style": "",
      "children": [
       "IPY_MODEL_a96f42415f404d6cbbf541377096e173",
       "IPY_MODEL_7752cb93d516480e840c3194c69c790c",
       "IPY_MODEL_d253d8a012c547e69bc586c9a5322a7e"
      ],
      "layout": "IPY_MODEL_4c2da26c91e34b57936bda6db7dc5c85"
     }
    },
    "a96f42415f404d6cbbf541377096e173": {
     "model_module": "@jupyter-widgets/controls",
     "model_module_version": "1.5.0",
     "model_name": "HTMLModel",
     "state": {
      "_dom_classes": [],
      "_model_module": "@jupyter-widgets/controls",
      "_model_module_version": "1.5.0",
      "_model_name": "HTMLModel",
      "_view_count": null,
      "_view_module": "@jupyter-widgets/controls",
      "_view_module_version": "1.5.0",
      "_view_name": "HTMLView",
      "description": "",
      "description_tooltip": null,
      "layout": "IPY_MODEL_8e9ef670fc9b4793b4c989527ef45f9e",
      "placeholder": "​",
      "style": "IPY_MODEL_1f6cec2318534abcb81fe9096466bb00",
      "value": ""
     }
    },
    "d253d8a012c547e69bc586c9a5322a7e": {
     "model_module": "@jupyter-widgets/controls",
     "model_module_version": "1.5.0",
     "model_name": "HTMLModel",
     "state": {
      "_dom_classes": [],
      "_model_module": "@jupyter-widgets/controls",
      "_model_module_version": "1.5.0",
      "_model_name": "HTMLModel",
      "_view_count": null,
      "_view_module": "@jupyter-widgets/controls",
      "_view_module_version": "1.5.0",
      "_view_name": "HTMLView",
      "description": "",
      "description_tooltip": null,
      "layout": "IPY_MODEL_e305bf5fb59b470d90093bfd23e9a906",
      "placeholder": "​",
      "style": "IPY_MODEL_574ad7ebbcc4420fadad563afcc066d2",
      "value": " 2640397312/? [02:17&lt;00:00, 17089390.16it/s]"
     }
    },
    "e305bf5fb59b470d90093bfd23e9a906": {
     "model_module": "@jupyter-widgets/base",
     "model_module_version": "1.2.0",
     "model_name": "LayoutModel",
     "state": {
      "_model_module": "@jupyter-widgets/base",
      "_model_module_version": "1.2.0",
      "_model_name": "LayoutModel",
      "_view_count": null,
      "_view_module": "@jupyter-widgets/base",
      "_view_module_version": "1.2.0",
      "_view_name": "LayoutView",
      "align_content": null,
      "align_items": null,
      "align_self": null,
      "border": null,
      "bottom": null,
      "display": null,
      "flex": null,
      "flex_flow": null,
      "grid_area": null,
      "grid_auto_columns": null,
      "grid_auto_flow": null,
      "grid_auto_rows": null,
      "grid_column": null,
      "grid_gap": null,
      "grid_row": null,
      "grid_template_areas": null,
      "grid_template_columns": null,
      "grid_template_rows": null,
      "height": null,
      "justify_content": null,
      "justify_items": null,
      "left": null,
      "margin": null,
      "max_height": null,
      "max_width": null,
      "min_height": null,
      "min_width": null,
      "object_fit": null,
      "object_position": null,
      "order": null,
      "overflow": null,
      "overflow_x": null,
      "overflow_y": null,
      "padding": null,
      "right": null,
      "top": null,
      "visibility": null,
      "width": null
     }
    },
    "f75d1be1219f438ea9b76698f7e5a891": {
     "model_module": "@jupyter-widgets/base",
     "model_module_version": "1.2.0",
     "model_name": "LayoutModel",
     "state": {
      "_model_module": "@jupyter-widgets/base",
      "_model_module_version": "1.2.0",
      "_model_name": "LayoutModel",
      "_view_count": null,
      "_view_module": "@jupyter-widgets/base",
      "_view_module_version": "1.2.0",
      "_view_name": "LayoutView",
      "align_content": null,
      "align_items": null,
      "align_self": null,
      "border": null,
      "bottom": null,
      "display": null,
      "flex": null,
      "flex_flow": null,
      "grid_area": null,
      "grid_auto_columns": null,
      "grid_auto_flow": null,
      "grid_auto_rows": null,
      "grid_column": null,
      "grid_gap": null,
      "grid_row": null,
      "grid_template_areas": null,
      "grid_template_columns": null,
      "grid_template_rows": null,
      "height": null,
      "justify_content": null,
      "justify_items": null,
      "left": null,
      "margin": null,
      "max_height": null,
      "max_width": null,
      "min_height": null,
      "min_width": null,
      "object_fit": null,
      "object_position": null,
      "order": null,
      "overflow": null,
      "overflow_x": null,
      "overflow_y": null,
      "padding": null,
      "right": null,
      "top": null,
      "visibility": null,
      "width": null
     }
    }
   }
  }
 },
 "nbformat": 4,
 "nbformat_minor": 0
}